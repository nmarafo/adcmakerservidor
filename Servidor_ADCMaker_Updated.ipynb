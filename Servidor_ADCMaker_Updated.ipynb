{
  "cells": [
    {
      "cell_type": "code",
      "execution_count": 1,
      "id": "450e04bd",
      "metadata": {
        "id": "450e04bd",
        "outputId": "952e092b-0fce-46a5-f488-4a72edfb1a33",
        "colab": {
          "base_uri": "https://localhost:8080/"
        }
      },
      "outputs": [
        {
          "output_type": "stream",
          "name": "stdout",
          "text": [
            "\u001b[K\u001b[?25h/tools/node/bin/lt -> /tools/node/lib/node_modules/localtunnel/bin/lt.js\n",
            "+ localtunnel@2.0.2\n",
            "added 22 packages from 22 contributors in 3.479s\n",
            "Collecting flask-cors\n",
            "  Downloading Flask_Cors-4.0.1-py2.py3-none-any.whl (14 kB)\n",
            "Requirement already satisfied: Flask>=0.9 in /usr/local/lib/python3.10/dist-packages (from flask-cors) (2.2.5)\n",
            "Requirement already satisfied: Werkzeug>=2.2.2 in /usr/local/lib/python3.10/dist-packages (from Flask>=0.9->flask-cors) (3.0.3)\n",
            "Requirement already satisfied: Jinja2>=3.0 in /usr/local/lib/python3.10/dist-packages (from Flask>=0.9->flask-cors) (3.1.4)\n",
            "Requirement already satisfied: itsdangerous>=2.0 in /usr/local/lib/python3.10/dist-packages (from Flask>=0.9->flask-cors) (2.2.0)\n",
            "Requirement already satisfied: click>=8.0 in /usr/local/lib/python3.10/dist-packages (from Flask>=0.9->flask-cors) (8.1.7)\n",
            "Requirement already satisfied: MarkupSafe>=2.0 in /usr/local/lib/python3.10/dist-packages (from Jinja2>=3.0->Flask>=0.9->flask-cors) (2.1.5)\n",
            "Installing collected packages: flask-cors\n",
            "Successfully installed flask-cors-4.0.1\n",
            " * Serving Flask app '__main__'\n",
            " * Debug mode: off\n"
          ]
        },
        {
          "output_type": "stream",
          "name": "stderr",
          "text": [
            "INFO:werkzeug:\u001b[31m\u001b[1mWARNING: This is a development server. Do not use it in a production deployment. Use a production WSGI server instead.\u001b[0m\n",
            " * Running on all addresses (0.0.0.0)\n",
            " * Running on http://127.0.0.1:5000\n",
            " * Running on http://172.28.0.12:5000\n",
            "INFO:werkzeug:\u001b[33mPress CTRL+C to quit\u001b[0m\n"
          ]
        },
        {
          "output_type": "stream",
          "name": "stdout",
          "text": [
            "Tunnel password: 34.73.217.14\n",
            "your url is: https://loose-apes-find.loca.lt\n"
          ]
        },
        {
          "output_type": "stream",
          "name": "stderr",
          "text": [
            "INFO:werkzeug:127.0.0.1 - - [11/Jul/2024 11:42:20] \"GET / HTTP/1.1\" 200 -\n",
            "INFO:werkzeug:127.0.0.1 - - [11/Jul/2024 11:42:20] \"\u001b[33mGET /favicon.ico HTTP/1.1\u001b[0m\" 404 -\n",
            "INFO:werkzeug:127.0.0.1 - - [11/Jul/2024 11:42:41] \"GET /check_auth HTTP/1.1\" 200 -\n",
            "INFO:werkzeug:127.0.0.1 - - [11/Jul/2024 11:43:17] \"POST /upload HTTP/1.1\" 200 -\n"
          ]
        },
        {
          "output_type": "stream",
          "name": "stdout",
          "text": [
            "['trackingConfig.js', 'ud_files.zip', 'index.html', 'cmi5.json', 'components.json', '573_215_0_532', 'project.json']\n"
          ]
        },
        {
          "output_type": "stream",
          "name": "stderr",
          "text": [
            "INFO:werkzeug:127.0.0.1 - - [11/Jul/2024 11:44:08] \"POST /upload HTTP/1.1\" 200 -\n"
          ]
        },
        {
          "output_type": "stream",
          "name": "stdout",
          "text": [
            "['trackingConfig.js', 'ud_files.zip', 'index.html', 'cmi5.json', 'components.json', '573_215_0_532', 'project.json']\n"
          ]
        },
        {
          "output_type": "stream",
          "name": "stderr",
          "text": [
            "INFO:werkzeug:127.0.0.1 - - [11/Jul/2024 11:44:49] \"POST /upload HTTP/1.1\" 200 -\n"
          ]
        },
        {
          "output_type": "stream",
          "name": "stdout",
          "text": [
            "['trackingConfig.js', 'ud_files.zip', 'index.html', 'cmi5.json', 'components.json', '573_215_0_532', 'project.json']\n"
          ]
        },
        {
          "output_type": "stream",
          "name": "stderr",
          "text": [
            "INFO:werkzeug:127.0.0.1 - - [11/Jul/2024 11:45:17] \"POST /upload HTTP/1.1\" 200 -\n"
          ]
        },
        {
          "output_type": "stream",
          "name": "stdout",
          "text": [
            "['trackingConfig.js', 'ud_files.zip', 'index.html', 'cmi5.json', 'components.json', '573_215_0_532', 'project.json']\n"
          ]
        },
        {
          "output_type": "stream",
          "name": "stderr",
          "text": [
            "INFO:werkzeug:127.0.0.1 - - [11/Jul/2024 11:45:49] \"POST /upload HTTP/1.1\" 200 -\n"
          ]
        },
        {
          "output_type": "stream",
          "name": "stdout",
          "text": [
            "['trackingConfig.js', 'ud_files.zip', 'index.html', 'cmi5.json', 'components.json', '573_215_0_532', 'project.json']\n",
            "^C\n"
          ]
        }
      ],
      "source": [
        "!npm install -g localtunnel\n",
        "!pip install flask-cors\n",
        "\n",
        "import zipfile\n",
        "import os\n",
        "from flask import Flask, request, jsonify, send_from_directory\n",
        "from flask_cors import CORS\n",
        "import json\n",
        "import threading\n",
        "import time\n",
        "\n",
        "app = Flask(__name__)\n",
        "CORS(app)  # Permitir solicitudes CORS\n",
        "UPLOAD_FOLDER = '/content/uploads'\n",
        "os.makedirs(UPLOAD_FOLDER, exist_ok=True)\n",
        "app.config['UPLOAD_FOLDER'] = UPLOAD_FOLDER\n",
        "\n",
        "@app.route('/', methods=['GET', 'OPTIONS'])\n",
        "def home():\n",
        "    if request.method == 'OPTIONS':\n",
        "        return build_cors_preflight_response()\n",
        "    return \"Server is running\", 200\n",
        "\n",
        "@app.route('/upload', methods=['POST', 'OPTIONS'])\n",
        "def upload_file():\n",
        "    if request.method == 'OPTIONS':\n",
        "        return build_cors_preflight_response()\n",
        "    if 'file' not in request.files or 'project_name' not in request.form or 'ud_name' not in request.form:\n",
        "        return 'No file part, project name, or unit name', 400\n",
        "    file = request.files['file']\n",
        "    project_name = request.form['project_name']\n",
        "    ud_name = request.form['ud_name']\n",
        "    if file.filename == '':\n",
        "        return 'No selected file', 400\n",
        "    if file:\n",
        "        project_folder = os.path.join(app.config['UPLOAD_FOLDER'], project_name)\n",
        "        ud_folder = os.path.join(project_folder, ud_name)\n",
        "        os.makedirs(ud_folder, exist_ok=True)\n",
        "        file_path = os.path.join(ud_folder, file.filename)\n",
        "        file.save(file_path)\n",
        "        process_uploaded_file(file_path, ud_folder)  # Llamar a la función para procesar el archivo\n",
        "        return 'File uploaded and processed successfully', 200\n",
        "\n",
        "@app.route('/check_auth', methods=['GET', 'OPTIONS'])\n",
        "def check_auth():\n",
        "    if request.method == 'OPTIONS':\n",
        "        return build_cors_preflight_response()\n",
        "    return jsonify({\"auth_status\": \"success\"}), 200\n",
        "\n",
        "def build_cors_preflight_response():\n",
        "    response = jsonify({\"message\": \"CORS preflight\"})\n",
        "    response.headers.add(\"Access-Control-Allow-Origin\", \"*\")\n",
        "    response.headers.add(\"Access-Control-Allow-Headers\", \"*\")\n",
        "    response.headers.add(\"Access-Control-Allow-Methods\", \"GET, POST, OPTIONS, PUT, DELETE\")\n",
        "    return response\n",
        "\n",
        "def process_uploaded_file(zip_path, extract_dir):\n",
        "    os.makedirs(extract_dir, exist_ok=True)\n",
        "\n",
        "    # Extraer archivo zip\n",
        "    with zipfile.ZipFile(zip_path, 'r') as zip_ref:\n",
        "        zip_ref.extractall(extract_dir)\n",
        "\n",
        "    # Listar archivos extraídos\n",
        "    extracted_files = os.listdir(extract_dir)\n",
        "    print(extracted_files)\n",
        "\n",
        "@app.route('/web/<path:path>')\n",
        "def serve_file(path):\n",
        "    return send_from_directory('/content/web', path)\n",
        "\n",
        "@app.route('/modify', methods=['POST', 'OPTIONS'])\n",
        "def modify_config():\n",
        "    if request.method == 'OPTIONS':\n",
        "        return build_cors_preflight_response()\n",
        "    new_value = request.json.get('ntxCafCompressed')\n",
        "    with open('/content/web/config.json', 'r') as config_file:\n",
        "        config = json.load(config_file)\n",
        "\n",
        "    config['ntxCafCompressed'] = new_value\n",
        "\n",
        "    with open('/content/web/config.json', 'w') as config_file:\n",
        "        json.dump(config, config_file)\n",
        "\n",
        "    return jsonify({\"status\": \"success\"})\n",
        "\n",
        "def run_app():\n",
        "    app.run(host='0.0.0.0', port=5000)\n",
        "\n",
        "thread = threading.Thread(target=run_app)\n",
        "thread.start()\n",
        "\n",
        "time.sleep(5)  # Espera a que localtunnel se inicie\n",
        "\n",
        "# Obtener la contraseña del túnel\n",
        "tunnel_password = os.popen('curl https://loca.lt/mytunnelpassword').read().strip()\n",
        "print(f\"Tunnel password: {tunnel_password}\")\n",
        "\n",
        "!lt --port 5000\n"
      ]
    }
  ],
  "metadata": {
    "colab": {
      "provenance": []
    },
    "language_info": {
      "name": "python"
    },
    "kernelspec": {
      "name": "python3",
      "display_name": "Python 3"
    }
  },
  "nbformat": 4,
  "nbformat_minor": 5
}