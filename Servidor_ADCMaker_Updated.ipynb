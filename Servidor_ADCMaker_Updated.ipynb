{
  "cells": [
    {
      "cell_type": "code",
      "execution_count": null,
      "id": "450e04bd",
      "metadata": {
        "id": "450e04bd",
        "outputId": "d315c66f-4334-4c2a-d96d-d3114941c203",
        "colab": {
          "base_uri": "https://localhost:8080/"
        }
      },
      "outputs": [
        {
          "output_type": "stream",
          "name": "stdout",
          "text": [
            "\u001b[K\u001b[?25h\n",
            "added 22 packages, and audited 23 packages in 5s\n",
            "\n",
            "1 \u001b[33m\u001b[1mmoderate\u001b[22m\u001b[39m severity vulnerability\n",
            "\n",
            "To address all issues (including breaking changes), run:\n",
            "  npm audit fix --force\n",
            "\n",
            "Run `npm audit` for details.\n",
            "\u001b[37;40mnpm\u001b[0m \u001b[0m\u001b[30;43mWARN\u001b[0m \u001b[0m\u001b[35musing --force\u001b[0m Recommended protections disabled.\n",
            "\u001b[K\u001b[?25h\u001b[37;40mnpm\u001b[0m \u001b[0m\u001b[31;40mERR!\u001b[0m \u001b[0m\u001b[35mcode\u001b[0m ENOLOCK\n",
            "\u001b[0m\u001b[37;40mnpm\u001b[0m \u001b[0m\u001b[31;40mERR!\u001b[0m \u001b[0m\u001b[35maudit\u001b[0m This command requires an existing lockfile.\n",
            "\u001b[0m\u001b[37;40mnpm\u001b[0m \u001b[0m\u001b[31;40mERR!\u001b[0m \u001b[0m\u001b[35maudit\u001b[0m Try creating one first with: npm i --package-lock-only\n",
            "\u001b[0m\u001b[37;40mnpm\u001b[0m \u001b[0m\u001b[31;40mERR!\u001b[0m \u001b[0m\u001b[35maudit\u001b[0m Original error: loadVirtual requires existing shrinkwrap file\n",
            "\u001b[0m\n",
            "\u001b[37;40mnpm\u001b[0m \u001b[0m\u001b[31;40mERR!\u001b[0m\u001b[35m\u001b[0m A complete log of this run can be found in:\n",
            "\u001b[0m\u001b[37;40mnpm\u001b[0m \u001b[0m\u001b[31;40mERR!\u001b[0m\u001b[35m\u001b[0m     /root/.npm/_logs/2024-08-21T10_38_26_714Z-debug-0.log\n",
            "\u001b[0mCollecting flask-cors\n",
            "  Downloading Flask_Cors-4.0.1-py2.py3-none-any.whl.metadata (5.5 kB)\n",
            "Requirement already satisfied: requests in /usr/local/lib/python3.10/dist-packages (2.32.3)\n",
            "Requirement already satisfied: Flask>=0.9 in /usr/local/lib/python3.10/dist-packages (from flask-cors) (2.2.5)\n",
            "Requirement already satisfied: charset-normalizer<4,>=2 in /usr/local/lib/python3.10/dist-packages (from requests) (3.3.2)\n",
            "Requirement already satisfied: idna<4,>=2.5 in /usr/local/lib/python3.10/dist-packages (from requests) (3.7)\n",
            "Requirement already satisfied: urllib3<3,>=1.21.1 in /usr/local/lib/python3.10/dist-packages (from requests) (2.0.7)\n",
            "Requirement already satisfied: certifi>=2017.4.17 in /usr/local/lib/python3.10/dist-packages (from requests) (2024.7.4)\n",
            "Requirement already satisfied: Werkzeug>=2.2.2 in /usr/local/lib/python3.10/dist-packages (from Flask>=0.9->flask-cors) (3.0.3)\n",
            "Requirement already satisfied: Jinja2>=3.0 in /usr/local/lib/python3.10/dist-packages (from Flask>=0.9->flask-cors) (3.1.4)\n",
            "Requirement already satisfied: itsdangerous>=2.0 in /usr/local/lib/python3.10/dist-packages (from Flask>=0.9->flask-cors) (2.2.0)\n",
            "Requirement already satisfied: click>=8.0 in /usr/local/lib/python3.10/dist-packages (from Flask>=0.9->flask-cors) (8.1.7)\n",
            "Requirement already satisfied: MarkupSafe>=2.0 in /usr/local/lib/python3.10/dist-packages (from Jinja2>=3.0->Flask>=0.9->flask-cors) (2.1.5)\n",
            "Downloading Flask_Cors-4.0.1-py2.py3-none-any.whl (14 kB)\n",
            "Installing collected packages: flask-cors\n",
            "Successfully installed flask-cors-4.0.1\n",
            " * Serving Flask app '__main__'\n",
            " * Debug mode: off\n"
          ]
        },
        {
          "output_type": "stream",
          "name": "stderr",
          "text": [
            "INFO:werkzeug:\u001b[31m\u001b[1mWARNING: This is a development server. Do not use it in a production deployment. Use a production WSGI server instead.\u001b[0m\n",
            " * Running on all addresses (0.0.0.0)\n",
            " * Running on http://127.0.0.1:5000\n",
            " * Running on http://172.28.0.12:5000\n",
            "INFO:werkzeug:\u001b[33mPress CTRL+C to quit\u001b[0m\n"
          ]
        },
        {
          "output_type": "stream",
          "name": "stdout",
          "text": [
            "Tunnel password: 34.48.212.140\n",
            "your url is: https://orange-taxis-sin.loca.lt\n"
          ]
        },
        {
          "output_type": "stream",
          "name": "stderr",
          "text": [
            "INFO:werkzeug:127.0.0.1 - - [21/Aug/2024 10:38:54] \"GET / HTTP/1.1\" 200 -\n",
            "INFO:werkzeug:127.0.0.1 - - [21/Aug/2024 10:38:54] \"\u001b[33mGET /favicon.ico HTTP/1.1\u001b[0m\" 404 -\n",
            "INFO:werkzeug:127.0.0.1 - - [21/Aug/2024 10:39:07] \"GET /check_auth HTTP/1.1\" 200 -\n",
            "INFO:werkzeug:127.0.0.1 - - [21/Aug/2024 10:39:08] \"OPTIONS /list_projects HTTP/1.1\" 200 -\n",
            "INFO:werkzeug:127.0.0.1 - - [21/Aug/2024 10:39:08] \"GET /list_projects HTTP/1.1\" 200 -\n",
            "INFO:werkzeug:127.0.0.1 - - [21/Aug/2024 10:40:22] \"OPTIONS /upload HTTP/1.1\" 200 -\n",
            "INFO:werkzeug:127.0.0.1 - - [21/Aug/2024 10:40:45] \"POST /upload HTTP/1.1\" 200 -\n"
          ]
        },
        {
          "output_type": "stream",
          "name": "stdout",
          "text": [
            "['components.json', 'ud_files.zip', 'index_prof.html', 'resources', 'trackingConfig.js', 'project.json', 'cmi5.json', '573_215_0_532']\n"
          ]
        },
        {
          "output_type": "stream",
          "name": "stderr",
          "text": [
            "INFO:werkzeug:127.0.0.1 - - [21/Aug/2024 10:40:52] \"GET /check_auth HTTP/1.1\" 200 -\n",
            "INFO:werkzeug:127.0.0.1 - - [21/Aug/2024 10:40:53] \"OPTIONS /list_projects HTTP/1.1\" 200 -\n",
            "INFO:werkzeug:127.0.0.1 - - [21/Aug/2024 10:40:53] \"GET /list_projects HTTP/1.1\" 200 -\n",
            "INFO:werkzeug:127.0.0.1 - - [21/Aug/2024 10:40:53] \"OPTIONS /list_ud_names?project_name=Nuevo%20Proyecto%201 HTTP/1.1\" 200 -\n",
            "INFO:werkzeug:127.0.0.1 - - [21/Aug/2024 10:40:54] \"GET /list_ud_names?project_name=Nuevo%20Proyecto%201 HTTP/1.1\" 200 -\n",
            "INFO:werkzeug:127.0.0.1 - - [21/Aug/2024 10:40:54] \"OPTIONS /get_ntxCafCompressed?project_name=Nuevo%20Proyecto%201&ud_name=Unidad%20Didáctica%201 HTTP/1.1\" 200 -\n",
            "INFO:werkzeug:127.0.0.1 - - [21/Aug/2024 10:40:54] \"GET /get_ntxCafCompressed?project_name=Nuevo%20Proyecto%201&ud_name=Unidad%20Didáctica%201 HTTP/1.1\" 200 -\n",
            "INFO:werkzeug:127.0.0.1 - - [21/Aug/2024 10:41:00] \"OPTIONS /modify HTTP/1.1\" 200 -\n",
            "INFO:werkzeug:127.0.0.1 - - [21/Aug/2024 10:41:00] \"POST /modify HTTP/1.1\" 200 -\n"
          ]
        },
        {
          "output_type": "stream",
          "name": "stdout",
          "text": [
            "Project Name: Nuevo Proyecto 1\n",
            "Unit Name: Unidad Didáctica 1\n",
            "Index Path: /content/uploads/Nuevo Proyecto 1/Unidad Didáctica 1/index_prof.html\n"
          ]
        },
        {
          "output_type": "stream",
          "name": "stderr",
          "text": [
            "INFO:werkzeug:127.0.0.1 - - [21/Aug/2024 10:41:00] \"OPTIONS /view_index?project_name=Nuevo%20Proyecto%201&ud_name=Unidad%20Didáctica%201 HTTP/1.1\" 200 -\n",
            "INFO:werkzeug:127.0.0.1 - - [21/Aug/2024 10:41:01] \"GET /view_index?project_name=Nuevo%20Proyecto%201&ud_name=Unidad%20Didáctica%201 HTTP/1.1\" 200 -\n",
            "INFO:werkzeug:127.0.0.1 - - [21/Aug/2024 10:41:02] \"GET /uploads/Nuevo%20Proyecto%201/Unidad%20Didáctica%201/index_prof.html?no_cache=1724236861575 HTTP/1.1\" 200 -\n",
            "INFO:werkzeug:127.0.0.1 - - [21/Aug/2024 10:41:02] \"GET /uploads/Nuevo%20Proyecto%201/Unidad%20Didáctica%201/trackingConfig.js HTTP/1.1\" 200 -\n",
            "INFO:werkzeug:127.0.0.1 - - [21/Aug/2024 10:41:02] \"GET /uploads/Nuevo%20Proyecto%201/Unidad%20Didáctica%201/573_215_0_532/loader.js?random=0.35089142629717385 HTTP/1.1\" 200 -\n",
            "INFO:werkzeug:127.0.0.1 - - [21/Aug/2024 10:41:05] \"GET /uploads/Nuevo%20Proyecto%201/Unidad%20Didáctica%201/573_215_0_532/ckeditor/ckeditor.js HTTP/1.1\" 200 -\n",
            "INFO:werkzeug:127.0.0.1 - - [21/Aug/2024 10:41:05] \"GET /uploads/Nuevo%20Proyecto%201/Unidad%20Didáctica%201/573_215_0_532/mathlive/mathlive.js HTTP/1.1\" 200 -\n",
            "INFO:werkzeug:127.0.0.1 - - [21/Aug/2024 10:41:06] \"GET /uploads/Nuevo%20Proyecto%201/Unidad%20Didáctica%201/573_215_0_532/fonts/NotoSans-Regular-webfont.woff HTTP/1.1\" 200 -\n",
            "INFO:werkzeug:127.0.0.1 - - [21/Aug/2024 10:41:06] \"GET /uploads/Nuevo%20Proyecto%201/Unidad%20Didáctica%201/573_215_0_532/components/src/notesPage_view_573-001/ico_notas_02.png HTTP/1.1\" 200 -\n",
            "INFO:werkzeug:127.0.0.1 - - [21/Aug/2024 10:41:06] \"GET /uploads/Nuevo%20Proyecto%201/Unidad%20Didáctica%201/573_215_0_532/fonts/NotoSans-Bold-webfont.woff HTTP/1.1\" 200 -\n",
            "INFO:werkzeug:127.0.0.1 - - [21/Aug/2024 10:41:06] \"GET /uploads/Nuevo%20Proyecto%201/Unidad%20Didáctica%201/573_215_0_532/fonts/NotoSans-Light.woff HTTP/1.1\" 200 -\n",
            "INFO:werkzeug:127.0.0.1 - - [21/Aug/2024 10:41:13] \"OPTIONS /modify HTTP/1.1\" 200 -\n",
            "INFO:werkzeug:127.0.0.1 - - [21/Aug/2024 10:41:13] \"POST /modify HTTP/1.1\" 200 -\n"
          ]
        },
        {
          "output_type": "stream",
          "name": "stdout",
          "text": [
            "Project Name: Nuevo Proyecto 1\n",
            "Unit Name: Unidad Didáctica 1\n",
            "Index Path: /content/uploads/Nuevo Proyecto 1/Unidad Didáctica 1/index_prof.html\n"
          ]
        },
        {
          "output_type": "stream",
          "name": "stderr",
          "text": [
            "INFO:werkzeug:127.0.0.1 - - [21/Aug/2024 10:41:24] \"OPTIONS /modify HTTP/1.1\" 200 -\n",
            "INFO:werkzeug:127.0.0.1 - - [21/Aug/2024 10:41:24] \"POST /modify HTTP/1.1\" 200 -\n"
          ]
        },
        {
          "output_type": "stream",
          "name": "stdout",
          "text": [
            "Project Name: Nuevo Proyecto 1\n",
            "Unit Name: Unidad Didáctica 1\n",
            "Index Path: /content/uploads/Nuevo Proyecto 1/Unidad Didáctica 1/index_prof.html\n"
          ]
        },
        {
          "output_type": "stream",
          "name": "stderr",
          "text": [
            "INFO:werkzeug:127.0.0.1 - - [21/Aug/2024 10:41:29] \"OPTIONS /modify HTTP/1.1\" 200 -\n",
            "INFO:werkzeug:127.0.0.1 - - [21/Aug/2024 10:41:30] \"POST /modify HTTP/1.1\" 200 -\n"
          ]
        },
        {
          "output_type": "stream",
          "name": "stdout",
          "text": [
            "Project Name: Nuevo Proyecto 1\n",
            "Unit Name: Unidad Didáctica 1\n",
            "Index Path: /content/uploads/Nuevo Proyecto 1/Unidad Didáctica 1/index_prof.html\n"
          ]
        },
        {
          "output_type": "stream",
          "name": "stderr",
          "text": [
            "INFO:werkzeug:127.0.0.1 - - [21/Aug/2024 10:41:31] \"OPTIONS /view_index?project_name=Nuevo%20Proyecto%201&ud_name=Unidad%20Didáctica%201 HTTP/1.1\" 200 -\n",
            "INFO:werkzeug:127.0.0.1 - - [21/Aug/2024 10:41:32] \"GET /view_index?project_name=Nuevo%20Proyecto%201&ud_name=Unidad%20Didáctica%201 HTTP/1.1\" 200 -\n",
            "INFO:werkzeug:127.0.0.1 - - [21/Aug/2024 10:41:33] \"GET /uploads/Nuevo%20Proyecto%201/Unidad%20Didáctica%201/index_prof.html?no_cache=1724236893120 HTTP/1.1\" 200 -\n",
            "INFO:werkzeug:127.0.0.1 - - [21/Aug/2024 10:41:33] \"\u001b[36mGET /uploads/Nuevo%20Proyecto%201/Unidad%20Didáctica%201/trackingConfig.js HTTP/1.1\u001b[0m\" 304 -\n",
            "INFO:werkzeug:127.0.0.1 - - [21/Aug/2024 10:41:33] \"GET /uploads/Nuevo%20Proyecto%201/Unidad%20Didáctica%201/573_215_0_532/loader.js?random=0.5787429374048629 HTTP/1.1\" 200 -\n",
            "INFO:werkzeug:127.0.0.1 - - [21/Aug/2024 10:41:36] \"\u001b[36mGET /uploads/Nuevo%20Proyecto%201/Unidad%20Didáctica%201/573_215_0_532/mathlive/mathlive.js HTTP/1.1\u001b[0m\" 304 -\n",
            "INFO:werkzeug:127.0.0.1 - - [21/Aug/2024 10:41:36] \"\u001b[36mGET /uploads/Nuevo%20Proyecto%201/Unidad%20Didáctica%201/573_215_0_532/ckeditor/ckeditor.js HTTP/1.1\u001b[0m\" 304 -\n",
            "INFO:werkzeug:127.0.0.1 - - [21/Aug/2024 10:41:37] \"\u001b[36mGET /uploads/Nuevo%20Proyecto%201/Unidad%20Didáctica%201/573_215_0_532/fonts/NotoSans-Regular-webfont.woff HTTP/1.1\u001b[0m\" 304 -\n",
            "INFO:werkzeug:127.0.0.1 - - [21/Aug/2024 10:41:37] \"\u001b[36mGET /uploads/Nuevo%20Proyecto%201/Unidad%20Didáctica%201/573_215_0_532/components/src/notesPage_view_573-001/ico_notas_02.png HTTP/1.1\u001b[0m\" 304 -\n",
            "INFO:werkzeug:127.0.0.1 - - [21/Aug/2024 10:41:37] \"\u001b[36mGET /uploads/Nuevo%20Proyecto%201/Unidad%20Didáctica%201/573_215_0_532/fonts/NotoSans-Bold-webfont.woff HTTP/1.1\u001b[0m\" 304 -\n",
            "INFO:werkzeug:127.0.0.1 - - [21/Aug/2024 10:41:37] \"\u001b[36mGET /uploads/Nuevo%20Proyecto%201/Unidad%20Didáctica%201/573_215_0_532/fonts/NotoSans-Light.woff HTTP/1.1\u001b[0m\" 304 -\n",
            "INFO:werkzeug:127.0.0.1 - - [21/Aug/2024 10:41:49] \"GET /check_auth HTTP/1.1\" 200 -\n",
            "INFO:werkzeug:127.0.0.1 - - [21/Aug/2024 10:41:50] \"OPTIONS /list_projects HTTP/1.1\" 200 -\n",
            "INFO:werkzeug:127.0.0.1 - - [21/Aug/2024 10:41:50] \"GET /list_projects HTTP/1.1\" 200 -\n",
            "INFO:werkzeug:127.0.0.1 - - [21/Aug/2024 10:41:50] \"OPTIONS /list_ud_names?project_name=Nuevo%20Proyecto%201 HTTP/1.1\" 200 -\n",
            "INFO:werkzeug:127.0.0.1 - - [21/Aug/2024 10:41:51] \"GET /list_ud_names?project_name=Nuevo%20Proyecto%201 HTTP/1.1\" 200 -\n",
            "INFO:werkzeug:127.0.0.1 - - [21/Aug/2024 10:41:52] \"OPTIONS /get_ntxCafCompressed?project_name=Nuevo%20Proyecto%201&ud_name=Unidad%20Didáctica%201 HTTP/1.1\" 200 -\n",
            "INFO:werkzeug:127.0.0.1 - - [21/Aug/2024 10:41:53] \"GET /get_ntxCafCompressed?project_name=Nuevo%20Proyecto%201&ud_name=Unidad%20Didáctica%201 HTTP/1.1\" 200 -\n",
            "INFO:werkzeug:127.0.0.1 - - [21/Aug/2024 10:42:07] \"OPTIONS /modify HTTP/1.1\" 200 -\n",
            "INFO:werkzeug:127.0.0.1 - - [21/Aug/2024 10:42:08] \"POST /modify HTTP/1.1\" 200 -\n"
          ]
        },
        {
          "output_type": "stream",
          "name": "stdout",
          "text": [
            "Project Name: Nuevo Proyecto 1\n",
            "Unit Name: Unidad Didáctica 1\n",
            "Index Path: /content/uploads/Nuevo Proyecto 1/Unidad Didáctica 1/index_prof.html\n"
          ]
        },
        {
          "output_type": "stream",
          "name": "stderr",
          "text": [
            "INFO:werkzeug:127.0.0.1 - - [21/Aug/2024 10:42:09] \"OPTIONS /view_index?project_name=Nuevo%20Proyecto%201&ud_name=Unidad%20Didáctica%201 HTTP/1.1\" 200 -\n",
            "INFO:werkzeug:127.0.0.1 - - [21/Aug/2024 10:42:10] \"GET /view_index?project_name=Nuevo%20Proyecto%201&ud_name=Unidad%20Didáctica%201 HTTP/1.1\" 200 -\n",
            "INFO:werkzeug:127.0.0.1 - - [21/Aug/2024 10:42:11] \"GET /uploads/Nuevo%20Proyecto%201/Unidad%20Didáctica%201/index_prof.html?no_cache=1724236931024 HTTP/1.1\" 200 -\n",
            "INFO:werkzeug:127.0.0.1 - - [21/Aug/2024 10:42:11] \"\u001b[36mGET /uploads/Nuevo%20Proyecto%201/Unidad%20Didáctica%201/trackingConfig.js HTTP/1.1\u001b[0m\" 304 -\n",
            "INFO:werkzeug:127.0.0.1 - - [21/Aug/2024 10:42:11] \"GET /uploads/Nuevo%20Proyecto%201/Unidad%20Didáctica%201/573_215_0_532/loader.js?random=0.5313623559210479 HTTP/1.1\" 200 -\n",
            "INFO:werkzeug:127.0.0.1 - - [21/Aug/2024 10:42:12] \"\u001b[36mGET /uploads/Nuevo%20Proyecto%201/Unidad%20Didáctica%201/573_215_0_532/mathlive/mathlive.js HTTP/1.1\u001b[0m\" 304 -\n",
            "INFO:werkzeug:127.0.0.1 - - [21/Aug/2024 10:42:12] \"\u001b[36mGET /uploads/Nuevo%20Proyecto%201/Unidad%20Didáctica%201/573_215_0_532/ckeditor/ckeditor.js HTTP/1.1\u001b[0m\" 304 -\n",
            "INFO:werkzeug:127.0.0.1 - - [21/Aug/2024 10:42:13] \"\u001b[36mGET /uploads/Nuevo%20Proyecto%201/Unidad%20Didáctica%201/573_215_0_532/fonts/NotoSans-Regular-webfont.woff HTTP/1.1\u001b[0m\" 304 -\n",
            "INFO:werkzeug:127.0.0.1 - - [21/Aug/2024 10:42:13] \"\u001b[36mGET /uploads/Nuevo%20Proyecto%201/Unidad%20Didáctica%201/573_215_0_532/components/src/notesPage_view_573-001/ico_notas_02.png HTTP/1.1\u001b[0m\" 304 -\n",
            "INFO:werkzeug:127.0.0.1 - - [21/Aug/2024 10:42:13] \"\u001b[36mGET /uploads/Nuevo%20Proyecto%201/Unidad%20Didáctica%201/573_215_0_532/fonts/NotoSans-Bold-webfont.woff HTTP/1.1\u001b[0m\" 304 -\n",
            "INFO:werkzeug:127.0.0.1 - - [21/Aug/2024 10:42:13] \"\u001b[36mGET /uploads/Nuevo%20Proyecto%201/Unidad%20Didáctica%201/573_215_0_532/fonts/NotoSans-Light.woff HTTP/1.1\u001b[0m\" 304 -\n",
            "INFO:werkzeug:127.0.0.1 - - [21/Aug/2024 10:42:24] \"OPTIONS /modify HTTP/1.1\" 200 -\n",
            "INFO:werkzeug:127.0.0.1 - - [21/Aug/2024 10:42:25] \"POST /modify HTTP/1.1\" 200 -\n"
          ]
        },
        {
          "output_type": "stream",
          "name": "stdout",
          "text": [
            "Project Name: Nuevo Proyecto 1\n",
            "Unit Name: Unidad Didáctica 1\n",
            "Index Path: /content/uploads/Nuevo Proyecto 1/Unidad Didáctica 1/index_prof.html\n"
          ]
        },
        {
          "output_type": "stream",
          "name": "stderr",
          "text": [
            "INFO:werkzeug:127.0.0.1 - - [21/Aug/2024 10:42:38] \"OPTIONS /modify HTTP/1.1\" 200 -\n",
            "INFO:werkzeug:127.0.0.1 - - [21/Aug/2024 10:42:39] \"POST /modify HTTP/1.1\" 200 -\n"
          ]
        },
        {
          "output_type": "stream",
          "name": "stdout",
          "text": [
            "Project Name: Nuevo Proyecto 1\n",
            "Unit Name: Unidad Didáctica 1\n",
            "Index Path: /content/uploads/Nuevo Proyecto 1/Unidad Didáctica 1/index_prof.html\n"
          ]
        },
        {
          "output_type": "stream",
          "name": "stderr",
          "text": [
            "INFO:werkzeug:127.0.0.1 - - [21/Aug/2024 10:42:39] \"OPTIONS /view_index?project_name=Nuevo%20Proyecto%201&ud_name=Unidad%20Didáctica%201 HTTP/1.1\" 200 -\n",
            "INFO:werkzeug:127.0.0.1 - - [21/Aug/2024 10:42:40] \"GET /view_index?project_name=Nuevo%20Proyecto%201&ud_name=Unidad%20Didáctica%201 HTTP/1.1\" 200 -\n",
            "INFO:werkzeug:127.0.0.1 - - [21/Aug/2024 10:42:41] \"GET /uploads/Nuevo%20Proyecto%201/Unidad%20Didáctica%201/index_prof.html?no_cache=1724236960910 HTTP/1.1\" 200 -\n",
            "INFO:werkzeug:127.0.0.1 - - [21/Aug/2024 10:42:41] \"\u001b[36mGET /uploads/Nuevo%20Proyecto%201/Unidad%20Didáctica%201/trackingConfig.js HTTP/1.1\u001b[0m\" 304 -\n",
            "INFO:werkzeug:127.0.0.1 - - [21/Aug/2024 10:42:41] \"GET /uploads/Nuevo%20Proyecto%201/Unidad%20Didáctica%201/573_215_0_532/loader.js?random=0.9967199730542764 HTTP/1.1\" 200 -\n",
            "INFO:werkzeug:127.0.0.1 - - [21/Aug/2024 10:42:42] \"\u001b[36mGET /uploads/Nuevo%20Proyecto%201/Unidad%20Didáctica%201/573_215_0_532/mathlive/mathlive.js HTTP/1.1\u001b[0m\" 304 -\n",
            "INFO:werkzeug:127.0.0.1 - - [21/Aug/2024 10:42:42] \"\u001b[36mGET /uploads/Nuevo%20Proyecto%201/Unidad%20Didáctica%201/573_215_0_532/ckeditor/ckeditor.js HTTP/1.1\u001b[0m\" 304 -\n",
            "INFO:werkzeug:127.0.0.1 - - [21/Aug/2024 10:42:43] \"\u001b[36mGET /uploads/Nuevo%20Proyecto%201/Unidad%20Didáctica%201/573_215_0_532/fonts/NotoSans-Regular-webfont.woff HTTP/1.1\u001b[0m\" 304 -\n",
            "INFO:werkzeug:127.0.0.1 - - [21/Aug/2024 10:42:43] \"\u001b[36mGET /uploads/Nuevo%20Proyecto%201/Unidad%20Didáctica%201/573_215_0_532/components/src/notesPage_view_573-001/ico_notas_02.png HTTP/1.1\u001b[0m\" 304 -\n",
            "INFO:werkzeug:127.0.0.1 - - [21/Aug/2024 10:42:43] \"\u001b[36mGET /uploads/Nuevo%20Proyecto%201/Unidad%20Didáctica%201/573_215_0_532/fonts/NotoSans-Bold-webfont.woff HTTP/1.1\u001b[0m\" 304 -\n",
            "INFO:werkzeug:127.0.0.1 - - [21/Aug/2024 10:42:43] \"\u001b[36mGET /uploads/Nuevo%20Proyecto%201/Unidad%20Didáctica%201/573_215_0_532/fonts/NotoSans-Light.woff HTTP/1.1\u001b[0m\" 304 -\n",
            "INFO:werkzeug:127.0.0.1 - - [21/Aug/2024 10:42:59] \"OPTIONS /modify HTTP/1.1\" 200 -\n",
            "INFO:werkzeug:127.0.0.1 - - [21/Aug/2024 10:43:00] \"POST /modify HTTP/1.1\" 200 -\n"
          ]
        },
        {
          "output_type": "stream",
          "name": "stdout",
          "text": [
            "Project Name: Nuevo Proyecto 1\n",
            "Unit Name: Unidad Didáctica 1\n",
            "Index Path: /content/uploads/Nuevo Proyecto 1/Unidad Didáctica 1/index_prof.html\n"
          ]
        },
        {
          "output_type": "stream",
          "name": "stderr",
          "text": [
            "INFO:werkzeug:127.0.0.1 - - [21/Aug/2024 10:43:01] \"OPTIONS /view_index?project_name=Nuevo%20Proyecto%201&ud_name=Unidad%20Didáctica%201 HTTP/1.1\" 200 -\n",
            "INFO:werkzeug:127.0.0.1 - - [21/Aug/2024 10:43:02] \"GET /view_index?project_name=Nuevo%20Proyecto%201&ud_name=Unidad%20Didáctica%201 HTTP/1.1\" 200 -\n",
            "INFO:werkzeug:127.0.0.1 - - [21/Aug/2024 10:43:03] \"GET /uploads/Nuevo%20Proyecto%201/Unidad%20Didáctica%201/index_prof.html?no_cache=1724236983237 HTTP/1.1\" 200 -\n",
            "INFO:werkzeug:127.0.0.1 - - [21/Aug/2024 10:43:03] \"\u001b[36mGET /uploads/Nuevo%20Proyecto%201/Unidad%20Didáctica%201/trackingConfig.js HTTP/1.1\u001b[0m\" 304 -\n",
            "INFO:werkzeug:127.0.0.1 - - [21/Aug/2024 10:43:03] \"GET /uploads/Nuevo%20Proyecto%201/Unidad%20Didáctica%201/573_215_0_532/loader.js?random=0.22855785555510244 HTTP/1.1\" 200 -\n",
            "INFO:werkzeug:127.0.0.1 - - [21/Aug/2024 10:43:05] \"\u001b[36mGET /uploads/Nuevo%20Proyecto%201/Unidad%20Didáctica%201/573_215_0_532/ckeditor/ckeditor.js HTTP/1.1\u001b[0m\" 304 -\n",
            "INFO:werkzeug:127.0.0.1 - - [21/Aug/2024 10:43:05] \"\u001b[36mGET /uploads/Nuevo%20Proyecto%201/Unidad%20Didáctica%201/573_215_0_532/mathlive/mathlive.js HTTP/1.1\u001b[0m\" 304 -\n",
            "INFO:werkzeug:127.0.0.1 - - [21/Aug/2024 10:43:06] \"\u001b[36mGET /uploads/Nuevo%20Proyecto%201/Unidad%20Didáctica%201/573_215_0_532/fonts/NotoSans-Regular-webfont.woff HTTP/1.1\u001b[0m\" 304 -\n",
            "INFO:werkzeug:127.0.0.1 - - [21/Aug/2024 10:43:06] \"\u001b[36mGET /uploads/Nuevo%20Proyecto%201/Unidad%20Didáctica%201/573_215_0_532/components/src/notesPage_view_573-001/ico_notas_02.png HTTP/1.1\u001b[0m\" 304 -\n",
            "INFO:werkzeug:127.0.0.1 - - [21/Aug/2024 10:43:06] \"\u001b[36mGET /uploads/Nuevo%20Proyecto%201/Unidad%20Didáctica%201/573_215_0_532/fonts/NotoSans-Bold-webfont.woff HTTP/1.1\u001b[0m\" 304 -\n",
            "INFO:werkzeug:127.0.0.1 - - [21/Aug/2024 10:43:06] \"\u001b[36mGET /uploads/Nuevo%20Proyecto%201/Unidad%20Didáctica%201/573_215_0_532/fonts/NotoSans-Light.woff HTTP/1.1\u001b[0m\" 304 -\n",
            "INFO:werkzeug:127.0.0.1 - - [21/Aug/2024 10:43:37] \"GET /check_auth HTTP/1.1\" 200 -\n",
            "INFO:werkzeug:127.0.0.1 - - [21/Aug/2024 10:43:38] \"OPTIONS /list_projects HTTP/1.1\" 200 -\n",
            "INFO:werkzeug:127.0.0.1 - - [21/Aug/2024 10:43:38] \"GET /list_projects HTTP/1.1\" 200 -\n",
            "INFO:werkzeug:127.0.0.1 - - [21/Aug/2024 10:43:38] \"OPTIONS /list_ud_names?project_name=Nuevo%20Proyecto%201 HTTP/1.1\" 200 -\n",
            "INFO:werkzeug:127.0.0.1 - - [21/Aug/2024 10:43:38] \"GET /list_ud_names?project_name=Nuevo%20Proyecto%201 HTTP/1.1\" 200 -\n",
            "INFO:werkzeug:127.0.0.1 - - [21/Aug/2024 10:43:39] \"OPTIONS /get_ntxCafCompressed?project_name=Nuevo%20Proyecto%201&ud_name=Unidad%20Didáctica%201 HTTP/1.1\" 200 -\n",
            "INFO:werkzeug:127.0.0.1 - - [21/Aug/2024 10:43:40] \"GET /get_ntxCafCompressed?project_name=Nuevo%20Proyecto%201&ud_name=Unidad%20Didáctica%201 HTTP/1.1\" 200 -\n",
            "INFO:werkzeug:127.0.0.1 - - [21/Aug/2024 10:44:05] \"OPTIONS /modify HTTP/1.1\" 200 -\n",
            "INFO:werkzeug:127.0.0.1 - - [21/Aug/2024 10:44:05] \"POST /modify HTTP/1.1\" 200 -\n"
          ]
        },
        {
          "output_type": "stream",
          "name": "stdout",
          "text": [
            "Project Name: Nuevo Proyecto 1\n",
            "Unit Name: Unidad Didáctica 1\n",
            "Index Path: /content/uploads/Nuevo Proyecto 1/Unidad Didáctica 1/index_prof.html\n"
          ]
        },
        {
          "output_type": "stream",
          "name": "stderr",
          "text": [
            "INFO:werkzeug:127.0.0.1 - - [21/Aug/2024 10:44:30] \"OPTIONS /delete_project HTTP/1.1\" 200 -\n",
            "INFO:werkzeug:127.0.0.1 - - [21/Aug/2024 10:44:31] \"POST /delete_project HTTP/1.1\" 200 -\n",
            "INFO:werkzeug:127.0.0.1 - - [21/Aug/2024 10:45:45] \"OPTIONS /upload HTTP/1.1\" 200 -\n",
            "INFO:werkzeug:127.0.0.1 - - [21/Aug/2024 10:45:55] \"POST /upload HTTP/1.1\" 200 -\n"
          ]
        },
        {
          "output_type": "stream",
          "name": "stdout",
          "text": [
            "['components.json', 'ud_files.zip', 'index_prof.html', 'resources', 'trackingConfig.js', 'project.json', 'cmi5.json', '573_215_0_532']\n"
          ]
        },
        {
          "output_type": "stream",
          "name": "stderr",
          "text": [
            "INFO:werkzeug:127.0.0.1 - - [21/Aug/2024 10:46:05] \"OPTIONS /modify HTTP/1.1\" 200 -\n",
            "INFO:werkzeug:127.0.0.1 - - [21/Aug/2024 10:46:05] \"POST /modify HTTP/1.1\" 200 -\n",
            "INFO:werkzeug:127.0.0.1 - - [21/Aug/2024 10:46:05] \"OPTIONS /view_index?project_name=Nuevo%20Proyecto%201&ud_name=Unidad%20Didáctica%201 HTTP/1.1\" 200 -\n"
          ]
        },
        {
          "output_type": "stream",
          "name": "stdout",
          "text": [
            "Project Name: Nuevo Proyecto 1\n",
            "Unit Name: Unidad Didáctica 1\n",
            "Index Path: /content/uploads/Nuevo Proyecto 1/Unidad Didáctica 1/index_prof.html\n"
          ]
        },
        {
          "output_type": "stream",
          "name": "stderr",
          "text": [
            "INFO:werkzeug:127.0.0.1 - - [21/Aug/2024 10:46:05] \"GET /view_index?project_name=Nuevo%20Proyecto%201&ud_name=Unidad%20Didáctica%201 HTTP/1.1\" 200 -\n",
            "INFO:werkzeug:127.0.0.1 - - [21/Aug/2024 10:46:06] \"GET /uploads/Nuevo%20Proyecto%201/Unidad%20Didáctica%201/index_prof.html?no_cache=1724237166376 HTTP/1.1\" 200 -\n",
            "INFO:werkzeug:127.0.0.1 - - [21/Aug/2024 10:46:07] \"GET /uploads/Nuevo%20Proyecto%201/Unidad%20Didáctica%201/trackingConfig.js HTTP/1.1\" 200 -\n",
            "INFO:werkzeug:127.0.0.1 - - [21/Aug/2024 10:46:07] \"GET /uploads/Nuevo%20Proyecto%201/Unidad%20Didáctica%201/573_215_0_532/loader.js?random=0.24836764280099222 HTTP/1.1\" 200 -\n",
            "INFO:werkzeug:127.0.0.1 - - [21/Aug/2024 10:46:09] \"GET /uploads/Nuevo%20Proyecto%201/Unidad%20Didáctica%201/573_215_0_532/mathlive/mathlive.js HTTP/1.1\" 200 -\n",
            "INFO:werkzeug:127.0.0.1 - - [21/Aug/2024 10:46:09] \"GET /uploads/Nuevo%20Proyecto%201/Unidad%20Didáctica%201/573_215_0_532/ckeditor/ckeditor.js HTTP/1.1\" 200 -\n",
            "INFO:werkzeug:127.0.0.1 - - [21/Aug/2024 10:46:09] \"GET /uploads/Nuevo%20Proyecto%201/Unidad%20Didáctica%201/573_215_0_532/fonts/NotoSans-Regular-webfont.woff HTTP/1.1\" 200 -\n",
            "INFO:werkzeug:127.0.0.1 - - [21/Aug/2024 10:46:09] \"GET /uploads/Nuevo%20Proyecto%201/Unidad%20Didáctica%201/573_215_0_532/components/src/notesPage_view_573-001/ico_notas_02.png HTTP/1.1\" 200 -\n",
            "INFO:werkzeug:127.0.0.1 - - [21/Aug/2024 10:46:09] \"GET /uploads/Nuevo%20Proyecto%201/Unidad%20Didáctica%201/573_215_0_532/fonts/NotoSans-Bold-webfont.woff HTTP/1.1\" 200 -\n",
            "INFO:werkzeug:127.0.0.1 - - [21/Aug/2024 10:46:09] \"GET /uploads/Nuevo%20Proyecto%201/Unidad%20Didáctica%201/573_215_0_532/fonts/NotoSans-Light.woff HTTP/1.1\" 200 -\n",
            "INFO:werkzeug:127.0.0.1 - - [21/Aug/2024 10:46:16] \"OPTIONS /modify HTTP/1.1\" 200 -\n",
            "INFO:werkzeug:127.0.0.1 - - [21/Aug/2024 10:46:16] \"POST /modify HTTP/1.1\" 200 -\n"
          ]
        },
        {
          "output_type": "stream",
          "name": "stdout",
          "text": [
            "Project Name: Nuevo Proyecto 1\n",
            "Unit Name: Unidad Didáctica 1\n",
            "Index Path: /content/uploads/Nuevo Proyecto 1/Unidad Didáctica 1/index_prof.html\n"
          ]
        },
        {
          "output_type": "stream",
          "name": "stderr",
          "text": [
            "INFO:werkzeug:127.0.0.1 - - [21/Aug/2024 10:46:20] \"POST /modify HTTP/1.1\" 200 -\n"
          ]
        },
        {
          "output_type": "stream",
          "name": "stdout",
          "text": [
            "Project Name: Nuevo Proyecto 1\n",
            "Unit Name: Unidad Didáctica 1\n",
            "Index Path: /content/uploads/Nuevo Proyecto 1/Unidad Didáctica 1/index_prof.html\n"
          ]
        },
        {
          "output_type": "stream",
          "name": "stderr",
          "text": [
            "INFO:werkzeug:127.0.0.1 - - [21/Aug/2024 10:46:27] \"OPTIONS /modify HTTP/1.1\" 200 -\n",
            "INFO:werkzeug:127.0.0.1 - - [21/Aug/2024 10:46:27] \"POST /modify HTTP/1.1\" 200 -\n"
          ]
        },
        {
          "output_type": "stream",
          "name": "stdout",
          "text": [
            "Project Name: Nuevo Proyecto 1\n",
            "Unit Name: Unidad Didáctica 1\n",
            "Index Path: /content/uploads/Nuevo Proyecto 1/Unidad Didáctica 1/index_prof.html\n"
          ]
        },
        {
          "output_type": "stream",
          "name": "stderr",
          "text": [
            "INFO:werkzeug:127.0.0.1 - - [21/Aug/2024 10:46:34] \"GET /check_auth HTTP/1.1\" 200 -\n",
            "INFO:werkzeug:127.0.0.1 - - [21/Aug/2024 10:46:35] \"OPTIONS /list_projects HTTP/1.1\" 200 -\n",
            "INFO:werkzeug:127.0.0.1 - - [21/Aug/2024 10:46:35] \"GET /list_projects HTTP/1.1\" 200 -\n",
            "INFO:werkzeug:127.0.0.1 - - [21/Aug/2024 10:46:36] \"OPTIONS /list_ud_names?project_name=Nuevo%20Proyecto%201 HTTP/1.1\" 200 -\n",
            "INFO:werkzeug:127.0.0.1 - - [21/Aug/2024 10:46:37] \"GET /list_ud_names?project_name=Nuevo%20Proyecto%201 HTTP/1.1\" 200 -\n",
            "INFO:werkzeug:127.0.0.1 - - [21/Aug/2024 10:46:37] \"OPTIONS /get_ntxCafCompressed?project_name=Nuevo%20Proyecto%201&ud_name=Unidad%20Didáctica%201 HTTP/1.1\" 200 -\n",
            "INFO:werkzeug:127.0.0.1 - - [21/Aug/2024 10:46:37] \"GET /get_ntxCafCompressed?project_name=Nuevo%20Proyecto%201&ud_name=Unidad%20Didáctica%201 HTTP/1.1\" 200 -\n",
            "INFO:werkzeug:127.0.0.1 - - [21/Aug/2024 10:47:00] \"OPTIONS /modify HTTP/1.1\" 200 -\n",
            "INFO:werkzeug:127.0.0.1 - - [21/Aug/2024 10:47:00] \"POST /modify HTTP/1.1\" 200 -\n"
          ]
        },
        {
          "output_type": "stream",
          "name": "stdout",
          "text": [
            "Project Name: Nuevo Proyecto 1\n",
            "Unit Name: Unidad Didáctica 1\n",
            "Index Path: /content/uploads/Nuevo Proyecto 1/Unidad Didáctica 1/index_prof.html\n"
          ]
        },
        {
          "output_type": "stream",
          "name": "stderr",
          "text": [
            "INFO:werkzeug:127.0.0.1 - - [21/Aug/2024 10:47:08] \"GET /check_auth HTTP/1.1\" 200 -\n",
            "INFO:werkzeug:127.0.0.1 - - [21/Aug/2024 10:47:08] \"OPTIONS /list_projects HTTP/1.1\" 200 -\n",
            "INFO:werkzeug:127.0.0.1 - - [21/Aug/2024 10:47:09] \"GET /list_projects HTTP/1.1\" 200 -\n",
            "INFO:werkzeug:127.0.0.1 - - [21/Aug/2024 10:47:09] \"OPTIONS /list_ud_names?project_name=Nuevo%20Proyecto%201 HTTP/1.1\" 200 -\n",
            "INFO:werkzeug:127.0.0.1 - - [21/Aug/2024 10:47:10] \"GET /list_ud_names?project_name=Nuevo%20Proyecto%201 HTTP/1.1\" 200 -\n",
            "INFO:werkzeug:127.0.0.1 - - [21/Aug/2024 10:47:10] \"OPTIONS /get_ntxCafCompressed?project_name=Nuevo%20Proyecto%201&ud_name=Unidad%20Didáctica%201 HTTP/1.1\" 200 -\n",
            "INFO:werkzeug:127.0.0.1 - - [21/Aug/2024 10:47:10] \"GET /get_ntxCafCompressed?project_name=Nuevo%20Proyecto%201&ud_name=Unidad%20Didáctica%201 HTTP/1.1\" 200 -\n",
            "INFO:werkzeug:127.0.0.1 - - [21/Aug/2024 10:47:30] \"GET /check_auth HTTP/1.1\" 200 -\n",
            "INFO:werkzeug:127.0.0.1 - - [21/Aug/2024 10:47:30] \"OPTIONS /list_projects HTTP/1.1\" 200 -\n",
            "INFO:werkzeug:127.0.0.1 - - [21/Aug/2024 10:47:31] \"GET /list_projects HTTP/1.1\" 200 -\n",
            "INFO:werkzeug:127.0.0.1 - - [21/Aug/2024 10:47:31] \"OPTIONS /list_ud_names?project_name=Nuevo%20Proyecto%201 HTTP/1.1\" 200 -\n",
            "INFO:werkzeug:127.0.0.1 - - [21/Aug/2024 10:47:32] \"GET /list_ud_names?project_name=Nuevo%20Proyecto%201 HTTP/1.1\" 200 -\n",
            "INFO:werkzeug:127.0.0.1 - - [21/Aug/2024 10:47:32] \"OPTIONS /get_ntxCafCompressed?project_name=Nuevo%20Proyecto%201&ud_name=Unidad%20Didáctica%201 HTTP/1.1\" 200 -\n",
            "INFO:werkzeug:127.0.0.1 - - [21/Aug/2024 10:47:33] \"GET /get_ntxCafCompressed?project_name=Nuevo%20Proyecto%201&ud_name=Unidad%20Didáctica%201 HTTP/1.1\" 200 -\n",
            "INFO:werkzeug:127.0.0.1 - - [21/Aug/2024 10:47:36] \"OPTIONS /delete_project HTTP/1.1\" 200 -\n",
            "INFO:werkzeug:127.0.0.1 - - [21/Aug/2024 10:47:37] \"POST /delete_project HTTP/1.1\" 200 -\n",
            "INFO:werkzeug:127.0.0.1 - - [21/Aug/2024 10:47:39] \"GET /check_auth HTTP/1.1\" 200 -\n",
            "INFO:werkzeug:127.0.0.1 - - [21/Aug/2024 10:47:39] \"OPTIONS /list_projects HTTP/1.1\" 200 -\n",
            "INFO:werkzeug:127.0.0.1 - - [21/Aug/2024 10:47:40] \"GET /list_projects HTTP/1.1\" 200 -\n",
            "INFO:werkzeug:127.0.0.1 - - [21/Aug/2024 10:49:10] \"OPTIONS /upload HTTP/1.1\" 200 -\n",
            "INFO:werkzeug:127.0.0.1 - - [21/Aug/2024 10:49:30] \"POST /upload HTTP/1.1\" 200 -\n"
          ]
        },
        {
          "output_type": "stream",
          "name": "stdout",
          "text": [
            "['components.json', 'ud_files.zip', 'index_prof.html', 'resources', 'trackingConfig.js', 'project.json', 'cmi5.json', '573_215_0_532']\n"
          ]
        },
        {
          "output_type": "stream",
          "name": "stderr",
          "text": [
            "INFO:werkzeug:127.0.0.1 - - [21/Aug/2024 10:49:41] \"OPTIONS /modify HTTP/1.1\" 200 -\n",
            "INFO:werkzeug:127.0.0.1 - - [21/Aug/2024 10:49:43] \"POST /modify HTTP/1.1\" 200 -\n"
          ]
        },
        {
          "output_type": "stream",
          "name": "stdout",
          "text": [
            "Project Name: Nuevo Proyecto 1\n",
            "Unit Name: Unidad Didáctica 1\n",
            "Index Path: /content/uploads/Nuevo Proyecto 1/Unidad Didáctica 1/index_prof.html\n"
          ]
        },
        {
          "output_type": "stream",
          "name": "stderr",
          "text": [
            "INFO:werkzeug:127.0.0.1 - - [21/Aug/2024 10:49:50] \"GET /check_auth HTTP/1.1\" 200 -\n",
            "INFO:werkzeug:127.0.0.1 - - [21/Aug/2024 10:49:50] \"OPTIONS /list_projects HTTP/1.1\" 200 -\n",
            "INFO:werkzeug:127.0.0.1 - - [21/Aug/2024 10:49:51] \"GET /list_projects HTTP/1.1\" 200 -\n",
            "INFO:werkzeug:127.0.0.1 - - [21/Aug/2024 10:49:51] \"OPTIONS /list_ud_names?project_name=Nuevo%20Proyecto%201 HTTP/1.1\" 200 -\n",
            "INFO:werkzeug:127.0.0.1 - - [21/Aug/2024 10:49:52] \"GET /list_ud_names?project_name=Nuevo%20Proyecto%201 HTTP/1.1\" 200 -\n",
            "INFO:werkzeug:127.0.0.1 - - [21/Aug/2024 10:49:52] \"OPTIONS /get_ntxCafCompressed?project_name=Nuevo%20Proyecto%201&ud_name=Unidad%20Didáctica%201 HTTP/1.1\" 200 -\n",
            "INFO:werkzeug:127.0.0.1 - - [21/Aug/2024 10:49:53] \"GET /get_ntxCafCompressed?project_name=Nuevo%20Proyecto%201&ud_name=Unidad%20Didáctica%201 HTTP/1.1\" 200 -\n",
            "INFO:werkzeug:127.0.0.1 - - [21/Aug/2024 10:50:01] \"OPTIONS /modify HTTP/1.1\" 200 -\n",
            "INFO:werkzeug:127.0.0.1 - - [21/Aug/2024 10:50:02] \"POST /modify HTTP/1.1\" 200 -\n"
          ]
        },
        {
          "output_type": "stream",
          "name": "stdout",
          "text": [
            "Project Name: Nuevo Proyecto 1\n",
            "Unit Name: Unidad Didáctica 1\n",
            "Index Path: /content/uploads/Nuevo Proyecto 1/Unidad Didáctica 1/index_prof.html\n"
          ]
        },
        {
          "output_type": "stream",
          "name": "stderr",
          "text": [
            "INFO:werkzeug:127.0.0.1 - - [21/Aug/2024 10:50:09] \"OPTIONS /modify HTTP/1.1\" 200 -\n",
            "INFO:werkzeug:127.0.0.1 - - [21/Aug/2024 10:50:10] \"POST /modify HTTP/1.1\" 200 -\n"
          ]
        },
        {
          "output_type": "stream",
          "name": "stdout",
          "text": [
            "Project Name: Nuevo Proyecto 1\n",
            "Unit Name: Unidad Didáctica 1\n",
            "Index Path: /content/uploads/Nuevo Proyecto 1/Unidad Didáctica 1/index_prof.html\n"
          ]
        },
        {
          "output_type": "stream",
          "name": "stderr",
          "text": [
            "INFO:werkzeug:127.0.0.1 - - [21/Aug/2024 10:50:17] \"OPTIONS /modify HTTP/1.1\" 200 -\n",
            "INFO:werkzeug:127.0.0.1 - - [21/Aug/2024 10:50:18] \"POST /modify HTTP/1.1\" 200 -\n"
          ]
        },
        {
          "output_type": "stream",
          "name": "stdout",
          "text": [
            "Project Name: Nuevo Proyecto 1\n",
            "Unit Name: Unidad Didáctica 1\n",
            "Index Path: /content/uploads/Nuevo Proyecto 1/Unidad Didáctica 1/index_prof.html\n"
          ]
        },
        {
          "output_type": "stream",
          "name": "stderr",
          "text": [
            "INFO:werkzeug:127.0.0.1 - - [21/Aug/2024 10:50:19] \"OPTIONS /view_index?project_name=Nuevo%20Proyecto%201&ud_name=Unidad%20Didáctica%201 HTTP/1.1\" 200 -\n",
            "INFO:werkzeug:127.0.0.1 - - [21/Aug/2024 10:50:19] \"GET /view_index?project_name=Nuevo%20Proyecto%201&ud_name=Unidad%20Didáctica%201 HTTP/1.1\" 200 -\n",
            "INFO:werkzeug:127.0.0.1 - - [21/Aug/2024 10:50:20] \"GET /uploads/Nuevo%20Proyecto%201/Unidad%20Didáctica%201/index_prof.html?no_cache=1724237419725 HTTP/1.1\" 200 -\n",
            "INFO:werkzeug:127.0.0.1 - - [21/Aug/2024 10:50:20] \"GET /uploads/Nuevo%20Proyecto%201/Unidad%20Didáctica%201/trackingConfig.js HTTP/1.1\" 200 -\n",
            "INFO:werkzeug:127.0.0.1 - - [21/Aug/2024 10:50:20] \"GET /uploads/Nuevo%20Proyecto%201/Unidad%20Didáctica%201/573_215_0_532/loader.js?random=0.341097069207015 HTTP/1.1\" 200 -\n",
            "INFO:werkzeug:127.0.0.1 - - [21/Aug/2024 10:50:22] \"GET /uploads/Nuevo%20Proyecto%201/Unidad%20Didáctica%201/573_215_0_532/mathlive/mathlive.js HTTP/1.1\" 200 -\n",
            "INFO:werkzeug:127.0.0.1 - - [21/Aug/2024 10:50:22] \"GET /uploads/Nuevo%20Proyecto%201/Unidad%20Didáctica%201/573_215_0_532/ckeditor/ckeditor.js HTTP/1.1\" 200 -\n",
            "INFO:werkzeug:127.0.0.1 - - [21/Aug/2024 10:50:22] \"GET /uploads/Nuevo%20Proyecto%201/Unidad%20Didáctica%201/573_215_0_532/fonts/NotoSans-Regular-webfont.woff HTTP/1.1\" 200 -\n",
            "INFO:werkzeug:127.0.0.1 - - [21/Aug/2024 10:50:22] \"GET /uploads/Nuevo%20Proyecto%201/Unidad%20Didáctica%201/573_215_0_532/components/src/notesPage_view_573-001/ico_notas_02.png HTTP/1.1\" 200 -\n",
            "INFO:werkzeug:127.0.0.1 - - [21/Aug/2024 10:50:22] \"GET /uploads/Nuevo%20Proyecto%201/Unidad%20Didáctica%201/573_215_0_532/fonts/NotoSans-Bold-webfont.woff HTTP/1.1\" 200 -\n",
            "INFO:werkzeug:127.0.0.1 - - [21/Aug/2024 10:50:22] \"GET /uploads/Nuevo%20Proyecto%201/Unidad%20Didáctica%201/573_215_0_532/fonts/NotoSans-Light.woff HTTP/1.1\" 200 -\n",
            "INFO:werkzeug:127.0.0.1 - - [21/Aug/2024 10:50:38] \"GET /check_auth HTTP/1.1\" 200 -\n",
            "INFO:werkzeug:127.0.0.1 - - [21/Aug/2024 10:50:39] \"OPTIONS /list_projects HTTP/1.1\" 200 -\n",
            "INFO:werkzeug:127.0.0.1 - - [21/Aug/2024 10:50:39] \"GET /list_projects HTTP/1.1\" 200 -\n",
            "INFO:werkzeug:127.0.0.1 - - [21/Aug/2024 10:50:39] \"OPTIONS /list_ud_names?project_name=Nuevo%20Proyecto%201 HTTP/1.1\" 200 -\n",
            "INFO:werkzeug:127.0.0.1 - - [21/Aug/2024 10:50:40] \"GET /list_ud_names?project_name=Nuevo%20Proyecto%201 HTTP/1.1\" 200 -\n",
            "INFO:werkzeug:127.0.0.1 - - [21/Aug/2024 10:50:41] \"OPTIONS /get_ntxCafCompressed?project_name=Nuevo%20Proyecto%201&ud_name=Unidad%20Didáctica%201 HTTP/1.1\" 200 -\n",
            "INFO:werkzeug:127.0.0.1 - - [21/Aug/2024 10:50:41] \"GET /get_ntxCafCompressed?project_name=Nuevo%20Proyecto%201&ud_name=Unidad%20Didáctica%201 HTTP/1.1\" 200 -\n",
            "INFO:werkzeug:127.0.0.1 - - [21/Aug/2024 10:51:00] \"OPTIONS /modify HTTP/1.1\" 200 -\n",
            "INFO:werkzeug:127.0.0.1 - - [21/Aug/2024 10:51:00] \"POST /modify HTTP/1.1\" 200 -\n",
            "INFO:werkzeug:127.0.0.1 - - [21/Aug/2024 10:51:00] \"OPTIONS /view_index?project_name=Nuevo%20Proyecto%201&ud_name=Unidad%20Didáctica%201 HTTP/1.1\" 200 -\n"
          ]
        },
        {
          "output_type": "stream",
          "name": "stdout",
          "text": [
            "Project Name: Nuevo Proyecto 1\n",
            "Unit Name: Unidad Didáctica 1\n",
            "Index Path: /content/uploads/Nuevo Proyecto 1/Unidad Didáctica 1/index_prof.html\n"
          ]
        },
        {
          "output_type": "stream",
          "name": "stderr",
          "text": [
            "INFO:werkzeug:127.0.0.1 - - [21/Aug/2024 10:51:01] \"GET /view_index?project_name=Nuevo%20Proyecto%201&ud_name=Unidad%20Didáctica%201 HTTP/1.1\" 200 -\n",
            "INFO:werkzeug:127.0.0.1 - - [21/Aug/2024 10:51:01] \"GET /uploads/Nuevo%20Proyecto%201/Unidad%20Didáctica%201/index_prof.html?no_cache=1724237461202 HTTP/1.1\" 200 -\n",
            "INFO:werkzeug:127.0.0.1 - - [21/Aug/2024 10:51:01] \"\u001b[36mGET /uploads/Nuevo%20Proyecto%201/Unidad%20Didáctica%201/trackingConfig.js HTTP/1.1\u001b[0m\" 304 -\n",
            "INFO:werkzeug:127.0.0.1 - - [21/Aug/2024 10:51:01] \"GET /uploads/Nuevo%20Proyecto%201/Unidad%20Didáctica%201/573_215_0_532/loader.js?random=0.5342051498492377 HTTP/1.1\" 200 -\n",
            "INFO:werkzeug:127.0.0.1 - - [21/Aug/2024 10:51:02] \"\u001b[36mGET /uploads/Nuevo%20Proyecto%201/Unidad%20Didáctica%201/573_215_0_532/mathlive/mathlive.js HTTP/1.1\u001b[0m\" 304 -\n",
            "INFO:werkzeug:127.0.0.1 - - [21/Aug/2024 10:51:02] \"\u001b[36mGET /uploads/Nuevo%20Proyecto%201/Unidad%20Didáctica%201/573_215_0_532/ckeditor/ckeditor.js HTTP/1.1\u001b[0m\" 304 -\n",
            "INFO:werkzeug:127.0.0.1 - - [21/Aug/2024 10:51:03] \"\u001b[36mGET /uploads/Nuevo%20Proyecto%201/Unidad%20Didáctica%201/573_215_0_532/fonts/NotoSans-Regular-webfont.woff HTTP/1.1\u001b[0m\" 304 -\n",
            "INFO:werkzeug:127.0.0.1 - - [21/Aug/2024 10:51:03] \"\u001b[36mGET /uploads/Nuevo%20Proyecto%201/Unidad%20Didáctica%201/573_215_0_532/components/src/notesPage_view_573-001/ico_notas_02.png HTTP/1.1\u001b[0m\" 304 -\n",
            "INFO:werkzeug:127.0.0.1 - - [21/Aug/2024 10:51:03] \"\u001b[36mGET /uploads/Nuevo%20Proyecto%201/Unidad%20Didáctica%201/573_215_0_532/fonts/NotoSans-Bold-webfont.woff HTTP/1.1\u001b[0m\" 304 -\n",
            "INFO:werkzeug:127.0.0.1 - - [21/Aug/2024 10:51:03] \"\u001b[36mGET /uploads/Nuevo%20Proyecto%201/Unidad%20Didáctica%201/573_215_0_532/fonts/NotoSans-Light.woff HTTP/1.1\u001b[0m\" 304 -\n",
            "INFO:werkzeug:127.0.0.1 - - [21/Aug/2024 10:51:38] \"OPTIONS /create_projects_zip HTTP/1.1\" 200 -\n",
            "ERROR:__main__:Exception on /create_projects_zip [POST]\n",
            "Traceback (most recent call last):\n",
            "  File \"/usr/local/lib/python3.10/dist-packages/flask/app.py\", line 2529, in wsgi_app\n",
            "    response = self.full_dispatch_request()\n",
            "  File \"/usr/local/lib/python3.10/dist-packages/flask/app.py\", line 1825, in full_dispatch_request\n",
            "    rv = self.handle_user_exception(e)\n",
            "  File \"/usr/local/lib/python3.10/dist-packages/flask_cors/extension.py\", line 178, in wrapped_function\n",
            "    return cors_after_request(app.make_response(f(*args, **kwargs)))\n",
            "  File \"/usr/local/lib/python3.10/dist-packages/flask/app.py\", line 1823, in full_dispatch_request\n",
            "    rv = self.dispatch_request()\n",
            "  File \"/usr/local/lib/python3.10/dist-packages/flask/app.py\", line 1799, in dispatch_request\n",
            "    return self.ensure_sync(self.view_functions[rule.endpoint])(**view_args)\n",
            "  File \"<ipython-input-1-9c6a4128534f>\", line 254, in create_projects_zip\n",
            "    zip_filename = os.path.join(ZIP_FOLDER, 'projects.zip')\n",
            "NameError: name 'ZIP_FOLDER' is not defined\n",
            "INFO:werkzeug:127.0.0.1 - - [21/Aug/2024 10:51:39] \"\u001b[35m\u001b[1mPOST /create_projects_zip HTTP/1.1\u001b[0m\" 500 -\n"
          ]
        },
        {
          "output_type": "stream",
          "name": "stdout",
          "text": [
            "^C\n"
          ]
        }
      ],
      "source": [
        "!npm install -g localtunnel --no-fund\n",
        "!npm audit fix --force\n",
        "!pip install flask-cors requests\n",
        "\n",
        "import zipfile\n",
        "import os\n",
        "from flask import Flask, request, jsonify, send_from_directory, send_file\n",
        "from flask_cors import CORS\n",
        "import json\n",
        "import threading\n",
        "import shutil\n",
        "import re\n",
        "import time\n",
        "import requests\n",
        "\n",
        "app = Flask(__name__)\n",
        "CORS(app)  # Permitir solicitudes CORS\n",
        "UPLOAD_FOLDER = '/content/uploads'\n",
        "os.makedirs(UPLOAD_FOLDER, exist_ok=True)\n",
        "ZIP_FOLDER = '/content/zipfiles'  # Carpeta donde se almacenarán los archivos ZIP\n",
        "os.makedirs(ZIP_FOLDER, exist_ok=True)\n",
        "app.config['UPLOAD_FOLDER'] = UPLOAD_FOLDER\n",
        "\n",
        "@app.route('/', methods=['GET', 'OPTIONS'])\n",
        "def home():\n",
        "    if request.method == 'OPTIONS':\n",
        "        return build_cors_preflight_response()\n",
        "    return \"Server is running\", 200\n",
        "\n",
        "@app.route('/upload', methods=['POST', 'OPTIONS'])\n",
        "def upload_file():\n",
        "    if request.method == 'OPTIONS':\n",
        "        return build_cors_preflight_response()\n",
        "    if 'file' not in request.files or 'project_name' not in request.form or 'ud_name' not in request.form:\n",
        "        return 'No file part, project name, or unit name', 400\n",
        "    file = request.files['file']\n",
        "    project_name = request.form['project_name']\n",
        "    ud_name = request.form['ud_name']\n",
        "    if file.filename == '':\n",
        "        return 'No selected file', 400\n",
        "    if file:\n",
        "        project_folder = os.path.join(app.config['UPLOAD_FOLDER'], project_name)\n",
        "        ud_folder = os.path.join(project_folder, ud_name)\n",
        "        os.makedirs(ud_folder, exist_ok=True)\n",
        "        file_path = os.path.join(ud_folder, file.filename)\n",
        "        file.save(file_path)\n",
        "        process_uploaded_file(file_path, ud_folder)  # Llamar a la función para procesar el archivo\n",
        "        return 'File uploaded and processed successfully', 200\n",
        "\n",
        "@app.route('/rename_project', methods=['POST', 'OPTIONS'])\n",
        "def rename_project():\n",
        "    if request.method == 'OPTIONS':\n",
        "        return build_cors_preflight_response()\n",
        "    data = request.json\n",
        "    old_name = data.get('old_name')\n",
        "    new_name = data.get('new_name')\n",
        "    if not old_name or not new_name:\n",
        "        return 'Missing old or new project name', 400\n",
        "    old_path = os.path.join(app.config['UPLOAD_FOLDER'], old_name)\n",
        "    new_path = os.path.join(app.config['UPLOAD_FOLDER'], new_name)\n",
        "    if os.path.exists(old_path):\n",
        "        shutil.move(old_path, new_path)\n",
        "        return 'Project renamed successfully', 200\n",
        "    else:\n",
        "        return 'Old project name not found', 404\n",
        "\n",
        "@app.route('/rename_ud', methods=['POST', 'OPTIONS'])\n",
        "def rename_ud():\n",
        "    if request.method == 'OPTIONS':\n",
        "        return build_cors_preflight_response()\n",
        "    data = request.json\n",
        "    project_name = data.get('project_name')\n",
        "    old_name = data.get('old_name')\n",
        "    new_name = data.get('new_name')\n",
        "    if not project_name or not old_name or not new_name:\n",
        "        return 'Missing project name, old name or new name', 400\n",
        "    project_path = os.path.join(app.config['UPLOAD_FOLDER'], project_name)\n",
        "    old_path = os.path.join(project_path, old_name)\n",
        "    new_path = os.path.join(project_path, new_name)\n",
        "    if os.path.exists(old_path):\n",
        "        shutil.move(old_path, new_path)\n",
        "        return 'Unit renamed successfully', 200\n",
        "    else:\n",
        "        return 'Old unit name not found', 404\n",
        "\n",
        "@app.route('/delete_ud', methods=['POST', 'OPTIONS'])\n",
        "def delete_ud():\n",
        "    if request.method == 'OPTIONS':\n",
        "        return build_cors_preflight_response()\n",
        "    data = request.json\n",
        "    project_name = data.get('project_name')\n",
        "    ud_name = data.get('ud_name')\n",
        "    if not project_name or not ud_name:\n",
        "        return 'Missing project name or unit name', 400\n",
        "    project_path = os.path.join(app.config['UPLOAD_FOLDER'], project_name)\n",
        "    ud_path = os.path.join(project_path, ud_name)\n",
        "    if os.path.exists(ud_path):\n",
        "        shutil.rmtree(ud_path)\n",
        "        return 'Unit deleted successfully', 200\n",
        "    else:\n",
        "        return 'Unit name not found', 404\n",
        "\n",
        "@app.route('/delete_project', methods=['POST', 'OPTIONS'])\n",
        "def delete_project():\n",
        "    if request.method == 'OPTIONS':\n",
        "        return build_cors_preflight_response()\n",
        "    data = request.get_json()\n",
        "    project_name = data['project_name']\n",
        "    project_folder = os.path.join(app.config['UPLOAD_FOLDER'], project_name)\n",
        "    if os.path.exists(project_folder):\n",
        "        import shutil\n",
        "        shutil.rmtree(project_folder)\n",
        "        return 'Project deleted successfully', 200\n",
        "    else:\n",
        "        return 'Project not found', 404\n",
        "\n",
        "@app.route('/check_auth', methods=['GET', 'OPTIONS'])\n",
        "def check_auth():\n",
        "    if request.method == 'OPTIONS':\n",
        "        return build_cors_preflight_response()\n",
        "    return jsonify({\"auth_status\": \"success\"}), 200\n",
        "\n",
        "def build_cors_preflight_response():\n",
        "    response = jsonify({\"message\": \"CORS preflight\"})\n",
        "    response.headers.add(\"Access-Control-Allow-Origin\", \"*\")\n",
        "    response.headers.add(\"Access-Control-Allow-Headers\", \"*\")\n",
        "    response.headers.add(\"Access-Control-Allow-Methods\", \"GET, POST, OPTIONS, PUT, DELETE\")\n",
        "    return response\n",
        "\n",
        "def process_uploaded_file(zip_path, extract_dir):\n",
        "    os.makedirs(extract_dir, exist_ok=True)\n",
        "\n",
        "    # Extraer archivo zip\n",
        "    with zipfile.ZipFile(zip_path, 'r') as zip_ref:\n",
        "        zip_ref.extractall(extract_dir)\n",
        "\n",
        "    # Listar archivos extraídos\n",
        "    extracted_files = os.listdir(extract_dir)\n",
        "    print(extracted_files)\n",
        "\n",
        "@app.route('/uploads/<path:path>')\n",
        "def serve_file(path):\n",
        "    return send_from_directory(UPLOAD_FOLDER, path)\n",
        "\n",
        "@app.route('/modify', methods=['POST', 'OPTIONS'])\n",
        "def modify_index():\n",
        "    if request.method == 'OPTIONS':\n",
        "        return build_cors_preflight_response()\n",
        "    project_name = request.json.get('project_name')\n",
        "    ud_name = request.json.get('ud_name')\n",
        "    new_value = request.json.get('ntxCafCompressed')\n",
        "\n",
        "    if not project_name or not ud_name:\n",
        "        return jsonify({\"status\": \"project_name or ud_name is missing\"}), 400\n",
        "\n",
        "    index_path = os.path.join(app.config['UPLOAD_FOLDER'], project_name, ud_name, 'index_prof.html')\n",
        "\n",
        "    # Añadir más información de depuración\n",
        "    print(f\"Project Name: {project_name}\")\n",
        "    print(f\"Unit Name: {ud_name}\")\n",
        "    print(f\"Index Path: {index_path}\")\n",
        "\n",
        "    if os.path.exists(index_path):\n",
        "        with open(index_path, 'r') as index_file:\n",
        "            content = index_file.read()\n",
        "\n",
        "        # Usar una expresión regular para reemplazar la variable ntxCafCompressed\n",
        "        updated_content = re.sub(r'var ntxCafCompressed = \".*\";', f'var ntxCafCompressed = \"{new_value}\";', content)\n",
        "\n",
        "        with open(index_path, 'w') as index_file:\n",
        "            index_file.write(updated_content)\n",
        "\n",
        "        return jsonify({\"status\": \"success\"})\n",
        "    else:\n",
        "        return jsonify({\"status\": \"index file not found\"}), 404\n",
        "\n",
        "@app.route('/view_index', methods=['GET', 'OPTIONS'])\n",
        "def view_index():\n",
        "    if request.method == 'OPTIONS':\n",
        "        return build_cors_preflight_response()\n",
        "    project_name = request.args.get('project_name')\n",
        "    ud_name = request.args.get('ud_name')\n",
        "\n",
        "    if not project_name or not ud_name:\n",
        "        return 'Missing project_name or ud_name', 400\n",
        "\n",
        "    index_path = os.path.join(app.config['UPLOAD_FOLDER'], project_name, ud_name, 'index_prof.html')\n",
        "\n",
        "    if os.path.exists(index_path):\n",
        "        with open(index_path, 'r') as index_file:\n",
        "            content = index_file.read()\n",
        "        return content, 200\n",
        "    else:\n",
        "        return 'index_prof.html not found', 404\n",
        "\n",
        "@app.route('/list_projects', methods=['GET', 'OPTIONS'])\n",
        "def list_projects():\n",
        "    if request.method == 'OPTIONS':\n",
        "        return build_cors_preflight_response()\n",
        "\n",
        "    projects = []\n",
        "    if os.path.exists(UPLOAD_FOLDER):\n",
        "        projects = os.listdir(UPLOAD_FOLDER)\n",
        "\n",
        "    return jsonify({\"projects\": projects}), 200\n",
        "\n",
        "@app.route('/get_ntxCafCompressed', methods=['GET', 'OPTIONS'])\n",
        "def get_ntxCafCompressed():\n",
        "    if request.method == 'OPTIONS':\n",
        "        return build_cors_preflight_response()\n",
        "\n",
        "    project_name = request.args.get('project_name')\n",
        "    ud_name = request.args.get('ud_name')\n",
        "\n",
        "    if not project_name or not ud_name:\n",
        "        return jsonify({\"error\": \"Missing project_name or ud_name\"}), 400\n",
        "\n",
        "    index_path = os.path.join(app.config['UPLOAD_FOLDER'], project_name, ud_name, 'index_prof.html')\n",
        "\n",
        "    if not os.path.exists(index_path):\n",
        "        return jsonify({\"error\": \"index_prof.html not found\"}), 404\n",
        "\n",
        "    try:\n",
        "        with open(index_path, 'r', encoding='utf-8') as index_file:\n",
        "            content = index_file.read()\n",
        "\n",
        "            # Usar una expresión regular para extraer el valor de ntxCafCompressed\n",
        "            match = re.search(r'var ntxCafCompressed = \"(.*?)\";', content)\n",
        "            if match:\n",
        "                ntxCafCompressed_value = match.group(1)\n",
        "                return jsonify({\"ntxCafCompressed\": ntxCafCompressed_value}), 200\n",
        "            else:\n",
        "                return jsonify({\"error\": \"ntxCafCompressed variable not found\"}), 404\n",
        "    except Exception as e:\n",
        "        return jsonify({\"error\": str(e)}), 500\n",
        "\n",
        "@app.route('/list_ud_names', methods=['GET', 'OPTIONS'])\n",
        "def list_ud_names():\n",
        "    if request.method == 'OPTIONS':\n",
        "        return build_cors_preflight_response()\n",
        "\n",
        "    project_name = request.args.get('project_name')\n",
        "    if not project_name:\n",
        "        return jsonify({\"error\": \"Missing project_name\"}), 400\n",
        "\n",
        "    project_path = os.path.join(app.config['UPLOAD_FOLDER'], project_name)\n",
        "    if not os.path.exists(project_path):\n",
        "        return jsonify({\"error\": \"Project not found\"}), 404\n",
        "\n",
        "    # Listar las carpetas dentro del proyecto (que representan las UDs)\n",
        "    ud_names = [d for d in os.listdir(project_path) if os.path.isdir(os.path.join(project_path, d))]\n",
        "    return jsonify({\"ud_names\": ud_names}), 200\n",
        "\n",
        "@app.route('/create_projects_zip', methods=['POST'])\n",
        "def create_projects_zip():\n",
        "    zip_filename = os.path.join(ZIP_FOLDER, 'projects.zip')\n",
        "\n",
        "    with zipfile.ZipFile(zip_filename, 'w', zipfile.ZIP_DEFLATED) as zf:\n",
        "        base_dir = UPLOAD_FOLDER\n",
        "        for foldername in os.listdir(base_dir):\n",
        "            folder_path = os.path.join(base_dir, foldername)\n",
        "            if os.path.isdir(folder_path):\n",
        "                for dirname, subdirs, files in os.walk(folder_path):\n",
        "                    for filename in files:\n",
        "                        file_path = os.path.join(dirname, filename)\n",
        "                        zf.write(file_path, os.path.relpath(file_path, base_dir))\n",
        "\n",
        "    # Responder a la aplicación que el ZIP ha sido creado\n",
        "    return jsonify({\"status\": \"success\", \"message\": \"Archivo ZIP creado exitosamente.\", \"zip_path\": zip_filename})\n",
        "\n",
        "@app.route('/download_projects_zip', methods=['GET'])\n",
        "def download_projects_zip():\n",
        "    zip_filename = os.path.join(ZIP_FOLDER, 'projects.zip')\n",
        "\n",
        "    if os.path.exists(zip_filename):\n",
        "        return send_file(zip_filename, mimetype='application/zip', as_attachment=True, download_name='projects.zip')\n",
        "    else:\n",
        "        return jsonify({\"status\": \"error\", \"message\": \"El archivo ZIP no existe.\"}), 404\n",
        "\n",
        "\n",
        "@app.route('/upload_zip', methods=['POST'])\n",
        "def upload_zip():\n",
        "    if 'file' not in request.files:\n",
        "        return 'No file part', 400\n",
        "\n",
        "    file = request.files['file']\n",
        "    if file.filename == '':\n",
        "        return 'No selected file', 400\n",
        "\n",
        "    if file and file.filename.endswith('.zip'):\n",
        "        file_path = os.path.join(app.config['UPLOAD_FOLDER'], file.filename)\n",
        "        file.save(file_path)\n",
        "\n",
        "        # Descomprimir el archivo ZIP en el servidor\n",
        "        with zipfile.ZipFile(file_path, 'r') as zip_ref:\n",
        "            zip_ref.extractall(app.config['UPLOAD_FOLDER'])\n",
        "\n",
        "        # Eliminar el archivo ZIP una vez descomprimido\n",
        "        os.remove(file_path)\n",
        "\n",
        "        return 'File uploaded and extracted successfully', 200\n",
        "\n",
        "    return 'Invalid file type', 400\n",
        "\n",
        "@app.route('/create_ud_zip', methods=['POST'])\n",
        "def create_ud_zip():\n",
        "    data = request.json\n",
        "    project_name = data.get('project_name')\n",
        "    ud_name = data.get('ud_name')\n",
        "\n",
        "    zip_filename = os.path.join(ZIP_FOLDER, f'{ud_name}.zip')\n",
        "\n",
        "    ud_dir = os.path.join(UPLOAD_FOLDER, project_name, ud_name)\n",
        "    with zipfile.ZipFile(zip_filename, 'w', zipfile.ZIP_DEFLATED) as zf:\n",
        "        for dirname, subdirs, files in os.walk(ud_dir):\n",
        "            for filename in files:\n",
        "                file_path = os.path.join(dirname, filename)\n",
        "\n",
        "                # Adjust the relative path to include the UD name as a folder inside the zip\n",
        "                arcname = os.path.join(ud_name, os.path.relpath(file_path, ud_dir))\n",
        "\n",
        "                zf.write(file_path, arcname)\n",
        "\n",
        "    return jsonify({\"status\": \"success\", \"message\": \"Archivo ZIP creado exitosamente.\", \"zip_path\": zip_filename})\n",
        "\n",
        "@app.route('/download_ud_zip', methods=['GET'])\n",
        "def download_ud_zip():\n",
        "    ud_name = request.args.get('ud_name')\n",
        "    zip_filename = os.path.join(ZIP_FOLDER, f'{ud_name}.zip')\n",
        "\n",
        "    if os.path.exists(zip_filename):\n",
        "        return send_file(zip_filename, mimetype='application/zip', as_attachment=True, download_name=f'{ud_name}.zip')\n",
        "    else:\n",
        "        return jsonify({\"status\": \"error\", \"message\": \"El archivo ZIP no existe.\"}), 404\n",
        "\n",
        "@app.route('/upload_ud_zip', methods=['POST', 'OPTIONS'])\n",
        "def upload_ud_zip():\n",
        "    if request.method == 'OPTIONS':\n",
        "        return build_cors_preflight_response()\n",
        "\n",
        "    if 'file' not in request.files or 'project_name' not in request.form:\n",
        "        return 'No file part or project name', 400\n",
        "\n",
        "    file = request.files['file']\n",
        "    project_name = request.form['project_name']\n",
        "\n",
        "    if file.filename == '':\n",
        "        return 'No selected file', 400\n",
        "\n",
        "    if file and file.filename.endswith('.zip'):\n",
        "        project_folder = os.path.join(app.config['UPLOAD_FOLDER'], project_name)\n",
        "        os.makedirs(project_folder, exist_ok=True)\n",
        "\n",
        "        # Guardar el archivo ZIP en el directorio del proyecto\n",
        "        file_path = os.path.join(project_folder, file.filename)\n",
        "        file.save(file_path)\n",
        "\n",
        "        # Descomprimir el archivo ZIP dentro del directorio del proyecto\n",
        "        with zipfile.ZipFile(file_path, 'r') as zip_ref:\n",
        "            zip_ref.extractall(project_folder)\n",
        "\n",
        "        # Eliminar el archivo ZIP una vez descomprimido\n",
        "        os.remove(file_path)\n",
        "\n",
        "        return 'UD ZIP file uploaded and extracted successfully', 200\n",
        "\n",
        "    return 'Invalid file type', 400\n",
        "\n",
        "@app.route('/upload_image', methods=['POST', 'OPTIONS'])\n",
        "def upload_image():\n",
        "    if request.method == 'OPTIONS':\n",
        "        return build_cors_preflight_response()\n",
        "    if 'file' not in request.files or 'project_name' not in request.form or 'ud_name' not in request.form:\n",
        "        return 'No file part, project name, or unit name', 400\n",
        "    file = request.files['file']\n",
        "    project_name = request.form['project_name']\n",
        "    ud_name = request.form['ud_name']\n",
        "    if file.filename == '':\n",
        "        return 'No selected file', 400\n",
        "    if file:\n",
        "        project_folder = os.path.join(app.config['UPLOAD_FOLDER'], project_name)\n",
        "        ud_folder = os.path.join(project_folder, ud_name, 'resources')  # Guardar en carpeta 'resources'\n",
        "        os.makedirs(ud_folder, exist_ok=True)\n",
        "        file_path = os.path.join(ud_folder, file.filename)\n",
        "        file.save(file_path)\n",
        "        return 'Image uploaded successfully', 200\n",
        "\n",
        "@app.route('/list_images', methods=['GET', 'OPTIONS'])\n",
        "def list_images():\n",
        "    if request.method == 'OPTIONS':\n",
        "        return build_cors_preflight_response()\n",
        "\n",
        "    project_name = request.args.get('project_name')\n",
        "    ud_name = request.args.get('ud_name')\n",
        "\n",
        "    if not project_name or not ud_name:\n",
        "        return jsonify({\"error\": \"Missing project_name or unit name\"}), 400\n",
        "\n",
        "    resources_folder = os.path.join(app.config['UPLOAD_FOLDER'], project_name, ud_name, 'resources')\n",
        "    if not os.path.exists(resources_folder):\n",
        "        return jsonify({\"images\": []}), 200\n",
        "\n",
        "    # Listar todos los archivos de imágenes en el directorio de recursos\n",
        "    valid_extensions = {'.jpg', '.jpeg', '.png', '.gif', '.bmp'}\n",
        "    images = [f for f in os.listdir(resources_folder) if os.path.isfile(os.path.join(resources_folder, f)) and os.path.splitext(f)[1].lower() in valid_extensions]\n",
        "    image_urls = [f'/uploads/{project_name}/{ud_name}/resources/{image}' for image in images]\n",
        "\n",
        "    return jsonify({\"images\": image_urls}), 200\n",
        "\n",
        "@app.route('/delete_image', methods=['POST', 'OPTIONS'])\n",
        "def delete_image():\n",
        "    if request.method == 'OPTIONS':\n",
        "        return build_cors_preflight_response()\n",
        "\n",
        "    data = request.json\n",
        "    project_name = data.get('project_name')\n",
        "    ud_name = data.get('ud_name')\n",
        "    file_name = data.get('file_name')\n",
        "\n",
        "    if not project_name or not ud_name or not file_name:\n",
        "        return jsonify({\"error\": \"Missing project_name, ud_name, or file_name\"}), 400\n",
        "\n",
        "    file_path = os.path.join(app.config['UPLOAD_FOLDER'], project_name, ud_name, 'resources', file_name)\n",
        "\n",
        "    if os.path.exists(file_path):\n",
        "        os.remove(file_path)\n",
        "        return jsonify({\"status\": \"success\", \"message\": \"Image deleted successfully\"}), 200\n",
        "    else:\n",
        "        return jsonify({\"status\": \"error\", \"message\": \"Image not found\"}), 404\n",
        "\n",
        "\n",
        "def run_app():\n",
        "    app.run(host='0.0.0.0', port=5000)\n",
        "\n",
        "thread = threading.Thread(target=run_app)\n",
        "thread.start()\n",
        "\n",
        "time.sleep(5)  # Espera a que localtunnel se inicie\n",
        "\n",
        "# Obtener la contraseña del túnel usando requests\n",
        "response = requests.get('https://loca.lt/mytunnelpassword')\n",
        "tunnel_password = response.text.strip()\n",
        "print(f\"Tunnel password: {tunnel_password}\")\n",
        "\n",
        "!lt --port 5000\n"
      ]
    }
  ],
  "metadata": {
    "colab": {
      "provenance": []
    },
    "language_info": {
      "name": "python"
    },
    "kernelspec": {
      "name": "python3",
      "display_name": "Python 3"
    }
  },
  "nbformat": 4,
  "nbformat_minor": 5
}