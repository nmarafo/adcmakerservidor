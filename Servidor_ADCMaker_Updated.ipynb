{
  "cells": [
    {
      "cell_type": "code",
      "execution_count": 1,
      "id": "450e04bd",
      "metadata": {
        "id": "450e04bd",
        "outputId": "e8c0e877-640d-4ea0-bfca-a74de0bf7ebb",
        "colab": {
          "base_uri": "https://localhost:8080/"
        }
      },
      "outputs": [
        {
          "metadata": {
            "tags": null
          },
          "name": "stdout",
          "output_type": "stream",
          "text": [
            "\u001b[K\u001b[?25h/tools/node/bin/lt -> /tools/node/lib/node_modules/localtunnel/bin/lt.js\n",
            "+ localtunnel@2.0.2\n",
            "added 22 packages from 22 contributors in 4.486s\n",
            "Collecting flask-cors\n",
            "  Downloading Flask_Cors-4.0.1-py2.py3-none-any.whl (14 kB)\n",
            "Requirement already satisfied: Flask>=0.9 in /usr/local/lib/python3.10/dist-packages (from flask-cors) (2.2.5)\n",
            "Requirement already satisfied: Werkzeug>=2.2.2 in /usr/local/lib/python3.10/dist-packages (from Flask>=0.9->flask-cors) (3.0.3)\n",
            "Requirement already satisfied: Jinja2>=3.0 in /usr/local/lib/python3.10/dist-packages (from Flask>=0.9->flask-cors) (3.1.4)\n",
            "Requirement already satisfied: itsdangerous>=2.0 in /usr/local/lib/python3.10/dist-packages (from Flask>=0.9->flask-cors) (2.2.0)\n",
            "Requirement already satisfied: click>=8.0 in /usr/local/lib/python3.10/dist-packages (from Flask>=0.9->flask-cors) (8.1.7)\n",
            "Requirement already satisfied: MarkupSafe>=2.0 in /usr/local/lib/python3.10/dist-packages (from Jinja2>=3.0->Flask>=0.9->flask-cors) (2.1.5)\n",
            "Installing collected packages: flask-cors\n",
            "Successfully installed flask-cors-4.0.1\n",
            " * Serving Flask app '__main__'\n",
            " * Debug mode: off\n"
          ]
        },
        {
          "metadata": {
            "tags": null
          },
          "name": "stderr",
          "output_type": "stream",
          "text": [
            "INFO:werkzeug:\u001b[31m\u001b[1mWARNING: This is a development server. Do not use it in a production deployment. Use a production WSGI server instead.\u001b[0m\n",
            " * Running on all addresses (0.0.0.0)\n",
            " * Running on http://127.0.0.1:5000\n",
            " * Running on http://172.28.0.12:5000\n",
            "INFO:werkzeug:\u001b[33mPress CTRL+C to quit\u001b[0m\n"
          ]
        },
        {
          "metadata": {
            "tags": null
          },
          "name": "stdout",
          "output_type": "stream",
          "text": [
            "Tunnel password: 34.106.55.99\n",
            "your url is: https://nasty-rocks-report.loca.lt\n"
          ]
        },
        {
          "metadata": {
            "tags": null
          },
          "name": "stderr",
          "output_type": "stream",
          "text": [
            "INFO:werkzeug:127.0.0.1 - - [16/Jul/2024 10:28:36] \"GET / HTTP/1.1\" 200 -\n",
            "INFO:werkzeug:127.0.0.1 - - [16/Jul/2024 10:28:36] \"\u001b[33mGET /favicon.ico HTTP/1.1\u001b[0m\" 404 -\n",
            "INFO:werkzeug:127.0.0.1 - - [16/Jul/2024 10:28:43] \"GET /check_auth HTTP/1.1\" 200 -\n",
            "INFO:werkzeug:127.0.0.1 - - [16/Jul/2024 10:29:02] \"OPTIONS /upload HTTP/1.1\" 200 -\n",
            "INFO:werkzeug:127.0.0.1 - - [16/Jul/2024 10:29:05] \"POST /upload HTTP/1.1\" 200 -\n"
          ]
        },
        {
          "metadata": {
            "tags": null
          },
          "name": "stdout",
          "output_type": "stream",
          "text": [
            "['573_215_0_532', 'trackingConfig.js', 'index_prof.html', 'ud_files.zip', 'cmi5.json', 'components.json', 'project.json']\n"
          ]
        },
        {
          "metadata": {
            "tags": null
          },
          "name": "stderr",
          "output_type": "stream",
          "text": [
            "INFO:werkzeug:127.0.0.1 - - [16/Jul/2024 10:30:05] \"OPTIONS /modify HTTP/1.1\" 200 -\n",
            "INFO:werkzeug:127.0.0.1 - - [16/Jul/2024 10:30:05] \"\u001b[33mPOST /modify HTTP/1.1\u001b[0m\" 404 -\n"
          ]
        },
        {
          "metadata": {
            "tags": null
          },
          "name": "stdout",
          "output_type": "stream",
          "text": [
            "Project Name: Nuevo Proyecto 1\n",
            "Unit Name: Unidad Didáctica 1\n",
            "Index Path: /content/uploads/Nuevo Proyecto 1/Unidad Didáctica 1/index.html\n"
          ]
        },
        {
          "output_type": "stream",
          "name": "stderr",
          "text": [
            "INFO:werkzeug:127.0.0.1 - - [16/Jul/2024 10:32:59] \"GET /check_auth HTTP/1.1\" 200 -\n",
            "INFO:werkzeug:127.0.0.1 - - [16/Jul/2024 10:33:21] \"OPTIONS /upload HTTP/1.1\" 200 -\n",
            "INFO:werkzeug:127.0.0.1 - - [16/Jul/2024 10:33:30] \"POST /upload HTTP/1.1\" 200 -\n"
          ]
        },
        {
          "output_type": "stream",
          "name": "stdout",
          "text": [
            "['573_215_0_532', 'trackingConfig.js', 'index_prof.html', 'ud_files.zip', 'cmi5.json', 'components.json', 'project.json']\n"
          ]
        },
        {
          "output_type": "stream",
          "name": "stderr",
          "text": [
            "INFO:werkzeug:127.0.0.1 - - [16/Jul/2024 10:34:15] \"OPTIONS /modify HTTP/1.1\" 200 -\n",
            "INFO:werkzeug:127.0.0.1 - - [16/Jul/2024 10:34:15] \"\u001b[33mPOST /modify HTTP/1.1\u001b[0m\" 404 -\n"
          ]
        },
        {
          "output_type": "stream",
          "name": "stdout",
          "text": [
            "Project Name: Nuevo Proyecto 1\n",
            "Unit Name: Unidad Didáctica 1\n",
            "Index Path: /content/uploads/Nuevo Proyecto 1/Unidad Didáctica 1/index.html\n",
            "^C\n"
          ]
        }
      ],
      "source": [
        "!npm install -g localtunnel\n",
        "!pip install flask-cors\n",
        "\n",
        "import zipfile\n",
        "import os\n",
        "from flask import Flask, request, jsonify, send_from_directory\n",
        "from flask_cors import CORS\n",
        "import json\n",
        "import threading\n",
        "import shutil\n",
        "import re\n",
        "import time\n",
        "\n",
        "app = Flask(__name__)\n",
        "CORS(app)  # Permitir solicitudes CORS\n",
        "UPLOAD_FOLDER = '/content/uploads'\n",
        "os.makedirs(UPLOAD_FOLDER, exist_ok=True)\n",
        "app.config['UPLOAD_FOLDER'] = UPLOAD_FOLDER\n",
        "\n",
        "@app.route('/', methods=['GET', 'OPTIONS'])\n",
        "def home():\n",
        "    if request.method == 'OPTIONS':\n",
        "        return build_cors_preflight_response()\n",
        "    return \"Server is running\", 200\n",
        "\n",
        "@app.route('/upload', methods=['POST', 'OPTIONS'])\n",
        "def upload_file():\n",
        "    if request.method == 'OPTIONS':\n",
        "        return build_cors_preflight_response()\n",
        "    if 'file' not in request.files or 'project_name' not in request.form or 'ud_name' not in request.form:\n",
        "        return 'No file part, project name, or unit name', 400\n",
        "    file = request.files['file']\n",
        "    project_name = request.form['project_name']\n",
        "    ud_name = request.form['ud_name']\n",
        "    if file.filename == '':\n",
        "        return 'No selected file', 400\n",
        "    if file:\n",
        "        project_folder = os.path.join(app.config['UPLOAD_FOLDER'], project_name)\n",
        "        ud_folder = os.path.join(project_folder, ud_name)\n",
        "        os.makedirs(ud_folder, exist_ok=True)\n",
        "        file_path = os.path.join(ud_folder, file.filename)\n",
        "        file.save(file_path)\n",
        "        process_uploaded_file(file_path, ud_folder)  # Llamar a la función para procesar el archivo\n",
        "        return 'File uploaded and processed successfully', 200\n",
        "\n",
        "@app.route('/rename_project', methods=['POST', 'OPTIONS'])\n",
        "def rename_project():\n",
        "    if request.method == 'OPTIONS':\n",
        "        return build_cors_preflight_response()\n",
        "    data = request.json\n",
        "    old_name = data.get('old_name')\n",
        "    new_name = data.get('new_name')\n",
        "    if not old_name or not new_name:\n",
        "        return 'Missing old or new project name', 400\n",
        "    old_path = os.path.join(app.config['UPLOAD_FOLDER'], old_name)\n",
        "    new_path = os.path.join(app.config['UPLOAD_FOLDER'], new_name)\n",
        "    if os.path.exists(old_path):\n",
        "        shutil.move(old_path, new_path)\n",
        "        return 'Project renamed successfully', 200\n",
        "    else:\n",
        "        return 'Old project name not found', 404\n",
        "\n",
        "@app.route('/rename_ud', methods=['POST', 'OPTIONS'])\n",
        "def rename_ud():\n",
        "    if request.method == 'OPTIONS':\n",
        "        return build_cors_preflight_response()\n",
        "    data = request.json\n",
        "    project_name = data.get('project_name')\n",
        "    old_name = data.get('old_name')\n",
        "    new_name = data.get('new_name')\n",
        "    if not project_name or not old_name or not new_name:\n",
        "        return 'Missing project name, old name or new name', 400\n",
        "    project_path = os.path.join(app.config['UPLOAD_FOLDER'], project_name)\n",
        "    old_path = os.path.join(project_path, old_name)\n",
        "    new_path = os.path.join(project_path, new_name)\n",
        "    if os.path.exists(old_path):\n",
        "        shutil.move(old_path, new_path)\n",
        "        return 'Unit renamed successfully', 200\n",
        "    else:\n",
        "        return 'Old unit name not found', 404\n",
        "\n",
        "@app.route('/delete_ud', methods=['POST', 'OPTIONS'])\n",
        "def delete_ud():\n",
        "    if request.method == 'OPTIONS':\n",
        "        return build_cors_preflight_response()\n",
        "    data = request.json\n",
        "    project_name = data.get('project_name')\n",
        "    ud_name = data.get('ud_name')\n",
        "    if not project_name or not ud_name:\n",
        "        return 'Missing project name or unit name', 400\n",
        "    project_path = os.path.join(app.config['UPLOAD_FOLDER'], project_name)\n",
        "    ud_path = os.path.join(project_path, ud_name)\n",
        "    if os.path.exists(ud_path):\n",
        "        shutil.rmtree(ud_path)\n",
        "        return 'Unit deleted successfully', 200\n",
        "    else:\n",
        "        return 'Unit name not found', 404\n",
        "\n",
        "@app.route('/delete_project', methods=['POST', 'OPTIONS'])\n",
        "def delete_project():\n",
        "    if request.method == 'OPTIONS':\n",
        "        return build_cors_preflight_response()\n",
        "    data = request.get_json()\n",
        "    project_name = data['project_name']\n",
        "    project_folder = os.path.join(app.config['UPLOAD_FOLDER'], project_name)\n",
        "    if os.path.exists(project_folder):\n",
        "        import shutil\n",
        "        shutil.rmtree(project_folder)\n",
        "        return 'Project deleted successfully', 200\n",
        "    else:\n",
        "        return 'Project not found', 404\n",
        "\n",
        "@app.route('/check_auth', methods=['GET', 'OPTIONS'])\n",
        "def check_auth():\n",
        "    if request.method == 'OPTIONS':\n",
        "        return build_cors_preflight_response()\n",
        "    return jsonify({\"auth_status\": \"success\"}), 200\n",
        "\n",
        "def build_cors_preflight_response():\n",
        "    response = jsonify({\"message\": \"CORS preflight\"})\n",
        "    response.headers.add(\"Access-Control-Allow-Origin\", \"*\")\n",
        "    response.headers.add(\"Access-Control-Allow-Headers\", \"*\")\n",
        "    response.headers.add(\"Access-Control-Allow-Methods\", \"GET, POST, OPTIONS, PUT, DELETE\")\n",
        "    return response\n",
        "\n",
        "def process_uploaded_file(zip_path, extract_dir):\n",
        "    os.makedirs(extract_dir, exist_ok=True)\n",
        "\n",
        "    # Extraer archivo zip\n",
        "    with zipfile.ZipFile(zip_path, 'r') as zip_ref:\n",
        "        zip_ref.extractall(extract_dir)\n",
        "\n",
        "    # Listar archivos extraídos\n",
        "    extracted_files = os.listdir(extract_dir)\n",
        "    print(extracted_files)\n",
        "\n",
        "@app.route('/uploads/<path:path>')\n",
        "def serve_file(path):\n",
        "    return send_from_directory(UPLOAD_FOLDER, path)\n",
        "\n",
        "@app.route('/modify', methods=['POST', 'OPTIONS'])\n",
        "def modify_index():\n",
        "    if request.method == 'OPTIONS':\n",
        "        return build_cors_preflight_response()\n",
        "    project_name = request.json.get('project_name')\n",
        "    ud_name = request.json.get('ud_name')\n",
        "    new_value = request.json.get('ntxCafCompressed')\n",
        "\n",
        "    if not project_name or not ud_name:\n",
        "        return jsonify({\"status\": \"project_name or ud_name is missing\"}), 400\n",
        "\n",
        "    index_path = os.path.join(app.config['UPLOAD_FOLDER'], project_name, ud_name, 'index_prof.html')\n",
        "\n",
        "    # Añadir más información de depuración\n",
        "    print(f\"Project Name: {project_name}\")\n",
        "    print(f\"Unit Name: {ud_name}\")\n",
        "    print(f\"Index Path: {index_path}\")\n",
        "\n",
        "    if os.path.exists(index_path):\n",
        "        with open(index_path, 'r') as index_file:\n",
        "            content = index_file.read()\n",
        "\n",
        "        # Usar una expresión regular para reemplazar la variable ntxCafCompressed\n",
        "        updated_content = re.sub(r'var ntxCafCompressed = \".*\";', f'var ntxCafCompressed = \"{new_value}\";', content)\n",
        "\n",
        "        with open(index_path, 'w') as index_file:\n",
        "            index_file.write(updated_content)\n",
        "\n",
        "        return jsonify({\"status\": \"success\"})\n",
        "    else:\n",
        "        return jsonify({\"status\": \"index file not found\"}), 404\n",
        "\n",
        "@app.route('/view_index', methods=['GET', 'OPTIONS'])\n",
        "def view_index():\n",
        "    if request.method == 'OPTIONS':\n",
        "        return build_cors_preflight_response()\n",
        "    project_name = request.args.get('project_name')\n",
        "    ud_name = request.args.get('ud_name')\n",
        "\n",
        "    if not project_name or not ud_name:\n",
        "        return 'Missing project_name or ud_name', 400\n",
        "\n",
        "    index_path = os.path.join(app.config['UPLOAD_FOLDER'], project_name, ud_name, 'index.html')\n",
        "\n",
        "    if os.path.exists(index_path):\n",
        "        with open(index_path, 'r') as index_file:\n",
        "            content = index_file.read()\n",
        "        return content, 200\n",
        "    else:\n",
        "        return 'index.html not found', 404\n",
        "\n",
        "def run_app():\n",
        "    app.run(host='0.0.0.0', port=5000)\n",
        "\n",
        "thread = threading.Thread(target=run_app)\n",
        "thread.start()\n",
        "\n",
        "time.sleep(5)  # Espera a que localtunnel se inicie\n",
        "\n",
        "# Obtener la contraseña del túnel\n",
        "tunnel_password = os.popen('curl https://loca.lt/mytunnelpassword').read().strip()\n",
        "print(f\"Tunnel password: {tunnel_password}\")\n",
        "\n",
        "!lt --port 5000\n"
      ]
    }
  ],
  "metadata": {
    "colab": {
      "provenance": []
    },
    "language_info": {
      "name": "python"
    },
    "kernelspec": {
      "name": "python3",
      "display_name": "Python 3"
    }
  },
  "nbformat": 4,
  "nbformat_minor": 5
}