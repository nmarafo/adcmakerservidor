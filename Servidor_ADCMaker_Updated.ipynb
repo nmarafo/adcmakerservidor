{
  "cells": [
    {
      "cell_type": "code",
      "execution_count": 1,
      "id": "aa4e28a2",
      "metadata": {
        "colab": {
          "base_uri": "https://localhost:8080/"
        },
        "id": "aa4e28a2",
        "outputId": "ab9c9434-0d5f-4d4a-c353-3bc76eda262f"
      },
      "outputs": [
        {
          "output_type": "stream",
          "name": "stdout",
          "text": [
            "\u001b[K\u001b[?25h/tools/node/bin/lt -> /tools/node/lib/node_modules/localtunnel/bin/lt.js\n",
            "+ localtunnel@2.0.2\n",
            "added 22 packages from 22 contributors in 3.799s\n",
            "Collecting flask-cors\n",
            "  Downloading Flask_Cors-4.0.1-py2.py3-none-any.whl (14 kB)\n",
            "Requirement already satisfied: Flask>=0.9 in /usr/local/lib/python3.10/dist-packages (from flask-cors) (2.2.5)\n",
            "Requirement already satisfied: Werkzeug>=2.2.2 in /usr/local/lib/python3.10/dist-packages (from Flask>=0.9->flask-cors) (3.0.3)\n",
            "Requirement already satisfied: Jinja2>=3.0 in /usr/local/lib/python3.10/dist-packages (from Flask>=0.9->flask-cors) (3.1.4)\n",
            "Requirement already satisfied: itsdangerous>=2.0 in /usr/local/lib/python3.10/dist-packages (from Flask>=0.9->flask-cors) (2.2.0)\n",
            "Requirement already satisfied: click>=8.0 in /usr/local/lib/python3.10/dist-packages (from Flask>=0.9->flask-cors) (8.1.7)\n",
            "Requirement already satisfied: MarkupSafe>=2.0 in /usr/local/lib/python3.10/dist-packages (from Jinja2>=3.0->Flask>=0.9->flask-cors) (2.1.5)\n",
            "Installing collected packages: flask-cors\n",
            "Successfully installed flask-cors-4.0.1\n"
          ]
        }
      ],
      "source": [
        "!npm install -g localtunnel\n",
        "!pip install flask-cors"
      ]
    },
    {
      "cell_type": "code",
      "execution_count": 2,
      "id": "450e04bd",
      "metadata": {
        "id": "450e04bd"
      },
      "outputs": [],
      "source": [
        "\n",
        "import zipfile\n",
        "import os\n",
        "from flask import Flask, request\n",
        "from flask_cors import CORS\n",
        "\n",
        "app = Flask(__name__)\n",
        "CORS(app)  # Permitir solicitudes CORS\n",
        "UPLOAD_FOLDER = '/content/uploads'\n",
        "os.makedirs(UPLOAD_FOLDER, exist_ok=True)\n",
        "app.config['UPLOAD_FOLDER'] = UPLOAD_FOLDER\n",
        "\n",
        "@app.route('/upload', methods=['POST'])\n",
        "def upload_file():\n",
        "    if 'file' not in request.files:\n",
        "        return 'No file part', 400\n",
        "    file = request.files['file']\n",
        "    if file.filename == '':\n",
        "        return 'No selected file', 400\n",
        "    if file:\n",
        "        filename = file.filename\n",
        "        file_path = os.path.join(app.config['UPLOAD_FOLDER'], filename)\n",
        "        file.save(file_path)\n",
        "        return 'File uploaded successfully', 200\n",
        ""
      ]
    },
    {
      "cell_type": "code",
      "execution_count": 3,
      "id": "805a12ba",
      "metadata": {
        "id": "805a12ba"
      },
      "outputs": [],
      "source": [
        "\n",
        "def process_uploaded_file(zip_path):\n",
        "    extract_dir = '/content/extracted'\n",
        "    os.makedirs(extract_dir, exist_ok=True)\n",
        "\n",
        "    # Extraer archivo zip\n",
        "    with zipfile.ZipFile(zip_path, 'r') as zip_ref:\n",
        "        zip_ref.extractall(extract_dir)\n",
        "\n",
        "    # Listar archivos extraídos\n",
        "    extracted_files = os.listdir(extract_dir)\n",
        "    print(extracted_files)\n",
        "\n",
        "    # Aquí puedes agregar el código para procesar los archivos extraídos\n",
        "    # ...\n",
        "\n",
        "# Comprobar si hay archivos en el directorio de subidas y procesarlos\n",
        "uploaded_files = os.listdir(UPLOAD_FOLDER)\n",
        "for file in uploaded_files:\n",
        "    if file.endswith('.zip'):\n",
        "        process_uploaded_file(os.path.join(UPLOAD_FOLDER, file))\n",
        ""
      ]
    },
    {
      "cell_type": "code",
      "source": [
        "from flask import Flask, request, jsonify, send_from_directory\n",
        "from flask_cors import CORS\n",
        "import json\n",
        "import threading\n",
        "\n",
        "@app.route('/web/<path:path>')\n",
        "def serve_file(path):\n",
        "    return send_from_directory('/content/web', path)\n",
        "\n",
        "@app.route('/modify', methods=['POST'])\n",
        "def modify_config():\n",
        "    new_value = request.json.get('ntxCafCompressed')\n",
        "    with open('/content/web/config.json', 'r') as config_file:\n",
        "        config = json.load(config_file)\n",
        "\n",
        "    config['ntxCafCompressed'] = new_value\n",
        "\n",
        "    with open('/content/web/config.json', 'w') as config_file:\n",
        "        json.dump(config, config_file)\n",
        "\n",
        "    return jsonify({\"status\": \"success\"})\n",
        "\n",
        "def run_app():\n",
        "    app.run(host='0.0.0.0', port=5000)\n",
        "\n",
        "thread = threading.Thread(target=run_app)\n",
        "thread.start()\n"
      ],
      "metadata": {
        "colab": {
          "base_uri": "https://localhost:8080/"
        },
        "id": "gztpXwgR0NVH",
        "outputId": "fc97c808-bf75-4eac-e105-0000d99be9a1"
      },
      "id": "gztpXwgR0NVH",
      "execution_count": 4,
      "outputs": [
        {
          "output_type": "stream",
          "name": "stdout",
          "text": [
            " * Serving Flask app '__main__'\n",
            " * Debug mode: off\n"
          ]
        }
      ]
    },
    {
      "cell_type": "code",
      "source": [
        "import time\n",
        "time.sleep(5)  # Espera a que localtunnel se inicie\n",
        "\n",
        "# Obtener la contraseña del túnel\n",
        "tunnel_password = os.popen('curl https://loca.lt/mytunnelpassword').read().strip()\n",
        "print(f\"Tunnel password: {tunnel_password}\")"
      ],
      "metadata": {
        "colab": {
          "base_uri": "https://localhost:8080/"
        },
        "id": "Yh3bPnMb0YTC",
        "outputId": "889f55ab-25ca-4381-c40f-8d735fd1dcdf"
      },
      "id": "Yh3bPnMb0YTC",
      "execution_count": 5,
      "outputs": [
        {
          "output_type": "stream",
          "name": "stderr",
          "text": [
            "INFO:werkzeug:\u001b[31m\u001b[1mWARNING: This is a development server. Do not use it in a production deployment. Use a production WSGI server instead.\u001b[0m\n",
            " * Running on all addresses (0.0.0.0)\n",
            " * Running on http://127.0.0.1:5000\n",
            " * Running on http://172.28.0.12:5000\n",
            "INFO:werkzeug:\u001b[33mPress CTRL+C to quit\u001b[0m\n"
          ]
        },
        {
          "output_type": "stream",
          "name": "stdout",
          "text": [
            "Tunnel password: 34.30.225.119\n"
          ]
        }
      ]
    },
    {
      "cell_type": "code",
      "execution_count": null,
      "id": "1b0fde6b",
      "metadata": {
        "colab": {
          "base_uri": "https://localhost:8080/"
        },
        "id": "1b0fde6b",
        "outputId": "1664744e-2cba-4961-c46d-8e02c784459e"
      },
      "outputs": [
        {
          "output_type": "stream",
          "name": "stdout",
          "text": [
            "your url is: https://wide-trees-cry.loca.lt\n"
          ]
        }
      ],
      "source": [
        "!lt --port 5000"
      ]
    }
  ],
  "metadata": {
    "colab": {
      "provenance": []
    },
    "language_info": {
      "name": "python"
    },
    "kernelspec": {
      "name": "python3",
      "display_name": "Python 3"
    }
  },
  "nbformat": 4,
  "nbformat_minor": 5
}